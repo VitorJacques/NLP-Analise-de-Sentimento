{
 "cells": [
  {
   "cell_type": "markdown",
   "id": "362c03d1",
   "metadata": {
    "id": "362c03d1",
    "slideshow": {
     "slide_type": "slide"
    }
   },
   "source": [
    "# Projeto 2 - NLP Análise de Sentimento\n",
    "\n",
    "-----"
   ]
  },
  {
   "cell_type": "markdown",
   "id": "63867d5c",
   "metadata": {
    "ExecuteTime": {
     "end_time": "2022-09-07T04:41:10.869301Z",
     "start_time": "2022-09-07T04:41:10.852937Z"
    },
    "slideshow": {
     "slide_type": "slide"
    }
   },
   "source": [
    "\n",
    "<img src=\"https://encrypted-tbn0.gstatic.com/images?q=tbn:ANd9GcQl_uVVki1hENn7Ov86KtGFX1aPwUWc7cD83Q&usqp=CAU\" width=600 >"
   ]
  },
  {
   "cell_type": "markdown",
   "id": "955a3a98",
   "metadata": {
    "id": "955a3a98",
    "slideshow": {
     "slide_type": "slide"
    }
   },
   "source": [
    "## Os Dados"
   ]
  },
  {
   "cell_type": "markdown",
   "id": "237d5657",
   "metadata": {
    "id": "237d5657",
    "slideshow": {
     "slide_type": "subslide"
    }
   },
   "source": [
    "Utilizaremos um dataset obtido no Twitter, com 100K postagens realizadas entre os dias 01/08/2018 e 20/10/2018. Sendo que cada postagem é classificada como **positiva**, **negativa** ou **neutra**.  \n",
    "\n",
    "Descrição das colunas:\n",
    "\n",
    "- **id**: ID único para o tweet  \n",
    "- **tweet_text**: Texto da publicação no Twitter  \n",
    "- **tweet_date**: Data da publicação no Twitter  \n",
    "- **sentiment**: 0, se negativo; 1, se positivo; 2, se neutro  \n",
    "- **query_used**: Filtro utilizado para buscar a publicação"
   ]
  },
  {
   "cell_type": "markdown",
   "id": "9dc86eb5",
   "metadata": {
    "id": "9dc86eb5",
    "slideshow": {
     "slide_type": "slide"
    }
   },
   "source": [
    "## O Problema"
   ]
  },
  {
   "cell_type": "markdown",
   "id": "4b0e1f6f",
   "metadata": {
    "id": "4b0e1f6f",
    "slideshow": {
     "slide_type": "subslide"
    }
   },
   "source": [
    "Desenvolver um modelo para detectar o sentimento de uma publicação do Twitter, a classificando em uma das três categorias: **positiva**, **negativa** ou **neutra**. O texto da publicação está disponível na coluna \"tweet_text\". Serão testadas pelo menos 2 técnicas de NLP diferentes, sendo escolhida a métrica de avaliação mais pertinente.  \n",
    "\n"
   ]
  },
  {
   "cell_type": "markdown",
   "id": "8f4d50dc",
   "metadata": {},
   "source": [
    "# Índice\n",
    "\n",
    "1. [Ferramentas](#1.-Ferramentas)\n",
    "\n",
    "    1.1 [Importando as bibliotecas](#1.1-Importando-as-bibliotecas)\n",
    "     \n",
    "    1.2 [Funções auxiliares](#1.2-Funções-auxiliares)\n",
    "    \n",
    "\n",
    "2. [EDA](#2.-EDA)\n",
    "\n",
    "  \n",
    "3. [Preprocessando o dataset](#3.-Preprocessando-o-dataset)\n",
    "\n",
    " \n",
    "4. [Modelos](#4.-Modelos)\n",
    "\n",
    "    4.1 [Modelo MultinomialNB](#4.1-Modelo-MultinomialNB)\n",
    "\n",
    "    4.2 [Modelo de Rede Neural](#4.2.1-Modelo-de-Rede-Neural)\n",
    "\n",
    "      4.2.1 [Aplicando o modelo nos dados de teste](#4.2.2-Aplicando-o-modelo-nos-dados-de-teste)\n",
    "\n",
    "   "
   ]
  },
  {
   "cell_type": "markdown",
   "id": "d366290f",
   "metadata": {},
   "source": [
    "# 1. Ferramentas"
   ]
  },
  {
   "cell_type": "markdown",
   "id": "424fbdff",
   "metadata": {
    "slideshow": {
     "slide_type": "slide"
    }
   },
   "source": [
    "## 1.1 Importando as bibliotecas"
   ]
  },
  {
   "cell_type": "code",
   "execution_count": 56,
   "id": "39f34a18",
   "metadata": {
    "ExecuteTime": {
     "end_time": "2022-09-11T11:03:10.357468Z",
     "start_time": "2022-09-11T11:03:10.333467Z"
    },
    "slideshow": {
     "slide_type": "subslide"
    }
   },
   "outputs": [],
   "source": [
    "import numpy as np\n",
    "import pandas as pd\n",
    "import re\n",
    "import emoji\n",
    "import unidecode\n",
    "import spacy\n",
    "import matplotlib.pyplot as plt\n",
    "import warnings\n",
    "\n",
    "import nltk\n",
    "from nltk.corpus import stopwords\n",
    "from nltk.tokenize import word_tokenize\n",
    "\n",
    "from sklearn.model_selection import train_test_split\n",
    "from sklearn.feature_extraction.text import TfidfVectorizer,TfidfTransformer,CountVectorizer\n",
    "from sklearn.naive_bayes import MultinomialNB\n",
    "from sklearn.metrics import classification_report,ConfusionMatrixDisplay\n",
    "from sklearn.pipeline import Pipeline\n",
    "from sklearn.model_selection import GridSearchCV,StratifiedKFold\n",
    "\n",
    "from tensorflow.keras.models import Sequential,load_model\n",
    "from tensorflow.keras.callbacks import ModelCheckpoint\n",
    "from tensorflow.keras.layers import Dense, Activation, Flatten\n",
    "from tensorflow.keras.layers import Embedding\n",
    "from tensorflow.keras.preprocessing import sequence\n",
    "from tensorflow.keras.preprocessing.text import Tokenizer\n",
    "from tensorflow.keras.preprocessing.sequence import pad_sequences\n",
    "\n",
    "warnings.filterwarnings('ignore')"
   ]
  },
  {
   "cell_type": "code",
   "execution_count": 2,
   "id": "aae4b06d",
   "metadata": {
    "ExecuteTime": {
     "end_time": "2022-09-10T15:44:07.698852Z",
     "start_time": "2022-09-10T15:44:07.373342Z"
    },
    "slideshow": {
     "slide_type": "subslide"
    }
   },
   "outputs": [
    {
     "name": "stderr",
     "output_type": "stream",
     "text": [
      "[nltk_data] Downloading package stopwords to\n",
      "[nltk_data]     C:\\Users\\vajja\\AppData\\Roaming\\nltk_data...\n",
      "[nltk_data]   Package stopwords is already up-to-date!\n",
      "[nltk_data] Downloading package punkt to\n",
      "[nltk_data]     C:\\Users\\vajja\\AppData\\Roaming\\nltk_data...\n",
      "[nltk_data]   Package punkt is already up-to-date!\n",
      "[nltk_data] Downloading package rslp to\n",
      "[nltk_data]     C:\\Users\\vajja\\AppData\\Roaming\\nltk_data...\n",
      "[nltk_data]   Package rslp is already up-to-date!\n"
     ]
    }
   ],
   "source": [
    "# Downloads dos pacotes\n",
    "nltk.download('stopwords')\n",
    "nltk.download('punkt')  \n",
    "nltk.download('rslp')\n",
    "words_pt = nltk.corpus.stopwords.words('portuguese')"
   ]
  },
  {
   "cell_type": "markdown",
   "id": "749cc2d0",
   "metadata": {
    "slideshow": {
     "slide_type": "slide"
    }
   },
   "source": [
    "## 1.2 Funções auxiliares"
   ]
  },
  {
   "cell_type": "code",
   "execution_count": 18,
   "id": "a977ab79",
   "metadata": {
    "ExecuteTime": {
     "end_time": "2022-09-10T15:59:36.228019Z",
     "start_time": "2022-09-10T15:59:36.199006Z"
    },
    "slideshow": {
     "slide_type": "subslide"
    }
   },
   "outputs": [],
   "source": [
    "def preprocessing(string):\n",
    "    \n",
    "    # retira os emojis\n",
    "    string = emoji.replace_emoji(string, replace='').lower()\n",
    "    \n",
    "    # retira os links\n",
    "    url_pattern = r'[a-zA-Z0-9]+://[a-zA-Z0-9.-_]+/[a-zA-Z0-9]+'\n",
    "    string = re.sub(url_pattern,'', string)\n",
    "    \n",
    "    # retira os referecias de usuários\n",
    "    pattern = r'@[a-zA-Z0-9_.]+'\n",
    "    string = re.sub(pattern,'', string)\n",
    "    \n",
    "    # retira as palavras chaves para a busca dos dados neutros\n",
    "    string = re.sub('#fato|#novidade|#noticia|#curiosidade|#oportunidade|#trabalho','', string)    \n",
    "    \n",
    "    # retira a acentuação\n",
    "    string = unidecode.unidecode(string)\n",
    "    \n",
    "    # retira os carcteres especiais e padroniza em letras minúsculas\n",
    "    string = re.sub(r'[^a-zA-Z0-9]+',' ', string).lower()\n",
    "    \n",
    "    # aplicando a tokenização\n",
    "    words = word_tokenize(string)    \n",
    "    \n",
    "    # removendo as stopwords\n",
    "    words_pt = nltk.corpus.stopwords.words('portuguese')\n",
    "    \n",
    "    filtered_words = [w for w in words if w not in words_pt]\n",
    "    \n",
    "    # aplicando a Lemmatization\n",
    "    new_string = \" \".join(filtered_words)\n",
    "    \n",
    "    nlp = spacy.load(\"pt_core_news_sm\")\n",
    "    doc = nlp(new_string)\n",
    "    tokens = [token for token in doc]\n",
    "    \n",
    "    lemmatized_sentence = [token.lemma_ for token in doc]\n",
    "    \n",
    "    #retornando a lista de palavras\n",
    "    return lemmatized_sentence\n",
    "               \n",
    "def trasnform_texto(string):\n",
    "    string = re.sub(r'[^a-zA-Z0-9]+',' ', string)\n",
    "    return string\n",
    "\n",
    "def trasnform_token(string):\n",
    "    return word_tokenize(string) \n",
    "\n",
    "def avaliacao(history):\n",
    "    accuracy = history.history[\"accuracy\"]\n",
    "    val_accuracy = history.history[\"val_accuracy\"]\n",
    "    loss = history.history[\"loss\"]\n",
    "    val_loss = history.history[\"val_loss\"]\n",
    "    epochs = range(1, len(accuracy) + 1)\n",
    "    plt.plot(epochs, accuracy, \"r\", label=\"Treino acc\")\n",
    "    plt.plot(epochs, val_accuracy, \"b\", label=\"Val acc\")\n",
    "    plt.xlabel(\"Épocas\")\n",
    "    plt.ylabel(\"%s\")\n",
    "    plt.title(\"Acurácia de Treino e Validação\")\n",
    "    plt.legend()\n",
    "    plt.figure()\n",
    "    plt.plot(epochs, loss, \"r\", label=\"Treino loss\")\n",
    "    plt.plot(epochs, val_loss, \"b\", label=\"Val loss\")\n",
    "    plt.xlabel(\"Épocas\")\n",
    "    plt.ylabel(\"%s\")\n",
    "    plt.title(\"Loss de Treino e Validação\")\n",
    "    plt.legend()\n",
    "    return plt.show()\n",
    "\n",
    "def metricas_classificacao(estimator, X_train, X_test, y_train, y_test):\n",
    "    \n",
    "    # ============================================\n",
    "\n",
    "    print(\"\\nMétricas de avaliação de treino:\")\n",
    "\n",
    "    y_pred_train = estimator.predict(X_train)\n",
    "    \n",
    "    ConfusionMatrixDisplay.from_predictions(y_train, y_pred_train,cmap='cividis')\n",
    "    plt.show()\n",
    "\n",
    "    print(classification_report(y_train, y_pred_train))\n",
    "    \n",
    "    # ============================================\n",
    "\n",
    "    print(\"\\nMétricas de avaliação de teste:\")\n",
    "\n",
    "    y_pred_test = estimator.predict(X_test)\n",
    "    \n",
    "    ConfusionMatrixDisplay.from_predictions(y_test, y_pred_test,cmap='cividis')\n",
    "    plt.show()\n",
    "\n",
    "    print(classification_report(y_test, y_pred_test))\n",
    "    \n",
    "def reducao_palavras(x,dicionario):\n",
    "    text = []\n",
    "    for i in x:\n",
    "        if i in dicionario[dicionario>15].index:\n",
    "            text.append(i)\n",
    "    return text            "
   ]
  },
  {
   "cell_type": "markdown",
   "id": "b3885910",
   "metadata": {
    "slideshow": {
     "slide_type": "slide"
    }
   },
   "source": [
    "# 2. EDA"
   ]
  },
  {
   "cell_type": "code",
   "execution_count": 4,
   "id": "8e110d2e",
   "metadata": {
    "ExecuteTime": {
     "end_time": "2022-09-10T15:44:30.893398Z",
     "start_time": "2022-09-10T15:44:30.397201Z"
    },
    "slideshow": {
     "slide_type": "subslide"
    }
   },
   "outputs": [],
   "source": [
    "# Lendo a base inicial\n",
    "df = pd.read_csv('./Dados/train/Train3Classes.csv')"
   ]
  },
  {
   "cell_type": "code",
   "execution_count": 5,
   "id": "1e4ae895",
   "metadata": {
    "ExecuteTime": {
     "end_time": "2022-09-10T15:44:47.157949Z",
     "start_time": "2022-09-10T15:44:47.148946Z"
    }
   },
   "outputs": [
    {
     "data": {
      "text/plain": [
       "(95000, 5)"
      ]
     },
     "execution_count": 5,
     "metadata": {},
     "output_type": "execute_result"
    }
   ],
   "source": [
    "# Tamanhdo do dataset\n",
    "df.shape"
   ]
  },
  {
   "cell_type": "code",
   "execution_count": 6,
   "id": "84700896",
   "metadata": {
    "ExecuteTime": {
     "end_time": "2022-09-10T15:47:12.294224Z",
     "start_time": "2022-09-10T15:47:12.239222Z"
    },
    "slideshow": {
     "slide_type": "subslide"
    }
   },
   "outputs": [
    {
     "name": "stdout",
     "output_type": "stream",
     "text": [
      "<class 'pandas.core.frame.DataFrame'>\n",
      "RangeIndex: 95000 entries, 0 to 94999\n",
      "Data columns (total 5 columns):\n",
      " #   Column      Non-Null Count  Dtype \n",
      "---  ------      --------------  ----- \n",
      " 0   id          95000 non-null  int64 \n",
      " 1   tweet_text  95000 non-null  object\n",
      " 2   tweet_date  95000 non-null  object\n",
      " 3   sentiment   95000 non-null  int64 \n",
      " 4   query_used  95000 non-null  object\n",
      "dtypes: int64(2), object(3)\n",
      "memory usage: 3.6+ MB\n"
     ]
    }
   ],
   "source": [
    "# Primeiras informações\n",
    "df.info()"
   ]
  },
  {
   "cell_type": "code",
   "execution_count": 7,
   "id": "cd3c363d",
   "metadata": {
    "ExecuteTime": {
     "end_time": "2022-09-10T15:47:12.749258Z",
     "start_time": "2022-09-10T15:47:12.730258Z"
    },
    "slideshow": {
     "slide_type": "subslide"
    }
   },
   "outputs": [
    {
     "data": {
      "text/plain": [
       "0    31696\n",
       "1    31678\n",
       "2    31626\n",
       "Name: sentiment, dtype: int64"
      ]
     },
     "execution_count": 7,
     "metadata": {},
     "output_type": "execute_result"
    }
   ],
   "source": [
    "# Qual é o balanceamento das classes a serem preditas\n",
    "df['sentiment'].value_counts()"
   ]
  },
  {
   "cell_type": "code",
   "execution_count": 9,
   "id": "bd15d977",
   "metadata": {
    "ExecuteTime": {
     "end_time": "2022-09-10T15:47:21.513048Z",
     "start_time": "2022-09-10T15:47:21.505049Z"
    },
    "slideshow": {
     "slide_type": "subslide"
    }
   },
   "outputs": [
    {
     "name": "stdout",
     "output_type": "stream",
     "text": [
      "Rio elege maior bancada policial de sua história https://t.co/sGXnhZKrHx https://t.co/Mcgiz70jPF  -----  folha \n",
      "\n",
      "\n",
      "@DiorFgomes @Teledramaturgia Exato! Minha pergunta era sobre pessoas normais e não deusas como Alcione. :)  -----  :) \n",
      "\n",
      "\n",
      "@diegutrembala meu amooooor q sdd :( quase nem to indo pra votu  -----  :( \n",
      "\n",
      "\n",
      "ai to precisando de colo :(  -----  :( \n",
      "\n",
      "\n",
      "eu te amo :( https://t.co/w96VEsULVD  -----  :( \n",
      "\n",
      "\n",
      "td q eu queria: ir pra porto e com o theo :( https://t.co/6DvfXK24eI  -----  :( \n",
      "\n",
      "\n",
      "@_GustvoSilveira af num importa eu sei a história ain :(  -----  :( \n",
      "\n",
      "\n",
      "Não consegui :( mais uma chance que eu perco por auto sabotagem  -----  :( \n",
      "\n",
      "\n",
      "@eduardissimo Tudo dela desde i don't Want it at all tem. Mas o contrato dela com ele foi firmado antes do escândalo todo, eu acho. :(  -----  :( \n",
      "\n",
      "\n",
      "tão queridas as nossas primeiras conversas, nem parecia q eu ia sofrer como sofro hj :)  -----  :) \n",
      "\n",
      "\n"
     ]
    }
   ],
   "source": [
    "# Visualização de 10 feaures que será usada para predição \n",
    "for i in range(0,200,20):\n",
    "    \n",
    "    print(df['tweet_text'].iloc[i],' ----- ', df['query_used'].iloc[i],'\\n\\n')"
   ]
  },
  {
   "cell_type": "code",
   "execution_count": 13,
   "id": "bba501d8",
   "metadata": {
    "ExecuteTime": {
     "end_time": "2022-09-10T15:51:08.096599Z",
     "start_time": "2022-09-10T15:51:07.981411Z"
    }
   },
   "outputs": [
    {
     "data": {
      "text/plain": [
       "815"
      ]
     },
     "execution_count": 13,
     "metadata": {},
     "output_type": "execute_result"
    }
   ],
   "source": [
    "# Linhas duplicadas\n",
    "df[['tweet_text','sentiment',]].duplicated().sum()"
   ]
  },
  {
   "cell_type": "markdown",
   "id": "aba65b41",
   "metadata": {
    "slideshow": {
     "slide_type": "slide"
    }
   },
   "source": [
    "É possível perceber que não existem dados faltantes e que apenas as colunas ID e SENTIMENT são numéricas.\n",
    "\n",
    "É visível que a classe à qual se deseja predizer encontra-se balanceada, sem necessidade de ajustes.\n",
    "\n",
    "Avaliando a coluna tweet_text, pode-se notar que existem vários emojis e pontuações expressando sentimentos, como, por exemplo, o rosto triste representado por \" :( \" , percebe-se menções por meio do \" @ \" , do \" # \" e de urls.\n",
    "\n",
    "O mais importante a se destacar é que a coluna tweet_text contém a variável resposta, ou seja, sempre que há um emoji triste \" :( \" a coluna sentiment é 0, de forma analoga o emoji \" :) \" a resposta é o 1, bem como onde há urls e '#fato', '#novidade', '#noticia', '#curiosidade', '#oportunidade' e '#trabalho' a resposta é 2. Isso se deve ao fato de como a base de dados foi construída por meio da coluna query_used, que usou como filtro os emojis para selecionar os dados.\n",
    "\n",
    "Portanto, para a construção de um modelo é indispensável a retirada da sinalização utilizada para filtragem de dados, caso contrário existirá um vazamento de dados que prejudicará o modelo.\n"
   ]
  },
  {
   "cell_type": "markdown",
   "id": "f0a9dada",
   "metadata": {
    "slideshow": {
     "slide_type": "slide"
    }
   },
   "source": [
    "# 3. Pré-processando o dataset"
   ]
  },
  {
   "cell_type": "code",
   "execution_count": 14,
   "id": "cc7084b4",
   "metadata": {
    "ExecuteTime": {
     "end_time": "2022-09-10T15:51:43.899650Z",
     "start_time": "2022-09-10T15:51:43.796654Z"
    }
   },
   "outputs": [],
   "source": [
    "# Removendo as linhas duplicadas\n",
    "df = df[['tweet_text','sentiment',]].drop_duplicates()"
   ]
  },
  {
   "cell_type": "code",
   "execution_count": 21,
   "id": "57c74252",
   "metadata": {
    "ExecuteTime": {
     "end_time": "2022-09-11T09:09:16.311452Z",
     "start_time": "2022-09-10T16:00:27.233072Z"
    },
    "slideshow": {
     "slide_type": "subslide"
    }
   },
   "outputs": [],
   "source": [
    "# Pre-processamento \n",
    "df['new_text'] = df['tweet_text'].apply(preprocessing)\n",
    "df['join_text'] = df['new_text'].apply(lambda x: ' '.join(x))\n",
    "\n",
    "#Salvando o dataset já processado\n",
    "df.to_csv('data3.csv',index=False) "
   ]
  },
  {
   "cell_type": "code",
   "execution_count": 22,
   "id": "fb247037",
   "metadata": {
    "ExecuteTime": {
     "end_time": "2022-09-11T10:35:51.675526Z",
     "start_time": "2022-09-11T10:35:50.897520Z"
    },
    "slideshow": {
     "slide_type": "subslide"
    }
   },
   "outputs": [],
   "source": [
    "# Lendo o dataset processado \n",
    "df = pd.read_csv('data3.csv')"
   ]
  },
  {
   "cell_type": "code",
   "execution_count": 25,
   "id": "34cdd6aa",
   "metadata": {
    "ExecuteTime": {
     "end_time": "2022-09-11T10:36:39.551538Z",
     "start_time": "2022-09-11T10:36:39.531540Z"
    },
    "slideshow": {
     "slide_type": "subslide"
    }
   },
   "outputs": [
    {
     "data": {
      "text/html": [
       "<div>\n",
       "<style scoped>\n",
       "    .dataframe tbody tr th:only-of-type {\n",
       "        vertical-align: middle;\n",
       "    }\n",
       "\n",
       "    .dataframe tbody tr th {\n",
       "        vertical-align: top;\n",
       "    }\n",
       "\n",
       "    .dataframe thead th {\n",
       "        text-align: right;\n",
       "    }\n",
       "</style>\n",
       "<table border=\"1\" class=\"dataframe\">\n",
       "  <thead>\n",
       "    <tr style=\"text-align: right;\">\n",
       "      <th></th>\n",
       "      <th>tweet_text</th>\n",
       "      <th>sentiment</th>\n",
       "      <th>new_text</th>\n",
       "      <th>join_text</th>\n",
       "    </tr>\n",
       "  </thead>\n",
       "  <tbody>\n",
       "    <tr>\n",
       "      <th>0</th>\n",
       "      <td>Rio elege maior bancada policial de sua histór...</td>\n",
       "      <td>2</td>\n",
       "      <td>['rio', 'eleger', 'grande', 'bancada', 'polici...</td>\n",
       "      <td>rio eleger grande bancada policial historio</td>\n",
       "    </tr>\n",
       "    <tr>\n",
       "      <th>1</th>\n",
       "      <td>fiquei tão triste quando eu vi o preço da câme...</td>\n",
       "      <td>0</td>\n",
       "      <td>['fiquei', 'tao', 'triste', 'ver', 'precor', '...</td>\n",
       "      <td>fiquei tao triste ver precor camer</td>\n",
       "    </tr>\n",
       "    <tr>\n",
       "      <th>2</th>\n",
       "      <td>Para Theresa May, seu plano para o Brexit é a ...</td>\n",
       "      <td>2</td>\n",
       "      <td>['thereso', 'may', 'plano', 'brexit', 'unico',...</td>\n",
       "      <td>thereso may plano brexit unico opcao</td>\n",
       "    </tr>\n",
       "    <tr>\n",
       "      <th>3</th>\n",
       "      <td>caralho eu quero proteger a danielly em um pot...</td>\n",
       "      <td>0</td>\n",
       "      <td>['caralho', 'querer', 'proteger', 'danielly', ...</td>\n",
       "      <td>caralho querer proteger danielly pote tadinhaa</td>\n",
       "    </tr>\n",
       "    <tr>\n",
       "      <th>4</th>\n",
       "      <td>@SiCaetano_ viva o caos :)</td>\n",
       "      <td>1</td>\n",
       "      <td>['viver', 'caos']</td>\n",
       "      <td>viver caos</td>\n",
       "    </tr>\n",
       "  </tbody>\n",
       "</table>\n",
       "</div>"
      ],
      "text/plain": [
       "                                          tweet_text  sentiment  \\\n",
       "0  Rio elege maior bancada policial de sua histór...          2   \n",
       "1  fiquei tão triste quando eu vi o preço da câme...          0   \n",
       "2  Para Theresa May, seu plano para o Brexit é a ...          2   \n",
       "3  caralho eu quero proteger a danielly em um pot...          0   \n",
       "4                         @SiCaetano_ viva o caos :)          1   \n",
       "\n",
       "                                            new_text  \\\n",
       "0  ['rio', 'eleger', 'grande', 'bancada', 'polici...   \n",
       "1  ['fiquei', 'tao', 'triste', 'ver', 'precor', '...   \n",
       "2  ['thereso', 'may', 'plano', 'brexit', 'unico',...   \n",
       "3  ['caralho', 'querer', 'proteger', 'danielly', ...   \n",
       "4                                  ['viver', 'caos']   \n",
       "\n",
       "                                        join_text  \n",
       "0     rio eleger grande bancada policial historio  \n",
       "1              fiquei tao triste ver precor camer  \n",
       "2            thereso may plano brexit unico opcao  \n",
       "3  caralho querer proteger danielly pote tadinhaa  \n",
       "4                                      viver caos  "
      ]
     },
     "execution_count": 25,
     "metadata": {},
     "output_type": "execute_result"
    }
   ],
   "source": [
    "# 5 primeiras linhas\n",
    "df.head()"
   ]
  },
  {
   "cell_type": "code",
   "execution_count": 26,
   "id": "c898f89a",
   "metadata": {
    "ExecuteTime": {
     "end_time": "2022-09-11T10:36:58.247555Z",
     "start_time": "2022-09-11T10:36:41.067550Z"
    },
    "slideshow": {
     "slide_type": "subslide"
    }
   },
   "outputs": [],
   "source": [
    "# Ajustando os dados\n",
    "df['join_text'] = df['new_text'].apply(trasnform_texto)\n",
    "\n",
    "df['new_text'] = df['join_text'].apply(trasnform_token)"
   ]
  },
  {
   "cell_type": "code",
   "execution_count": 27,
   "id": "13552db8",
   "metadata": {
    "ExecuteTime": {
     "end_time": "2022-09-11T10:37:06.017301Z",
     "start_time": "2022-09-11T10:37:04.540098Z"
    }
   },
   "outputs": [
    {
     "data": {
      "text/plain": [
       "palavras\n",
       "glote                1\n",
       "ismo                 1\n",
       "isnr                 1\n",
       "isntazinho           1\n",
       "isolacionismo        1\n",
       "                 ...  \n",
       "ver               5511\n",
       "querer            6368\n",
       "pra               7137\n",
       "ir               10640\n",
       "nao              18010\n",
       "Length: 59242, dtype: int64"
      ]
     },
     "execution_count": 27,
     "metadata": {},
     "output_type": "execute_result"
    }
   ],
   "source": [
    "# Verficação das palavras menos e mais frequentes\n",
    "palavras = pd.DataFrame(np.concatenate(df['new_text'].values), columns = ['palavras'])\n",
    "dicionario = palavras.groupby('palavras').size().sort_values()\n",
    "dicionario"
   ]
  },
  {
   "cell_type": "code",
   "execution_count": 28,
   "id": "c2bb823c",
   "metadata": {
    "ExecuteTime": {
     "end_time": "2022-09-11T10:48:31.931439Z",
     "start_time": "2022-09-11T10:37:16.315456Z"
    }
   },
   "outputs": [],
   "source": [
    "df['text'] = df['new_text'].apply(lambda x: reducao_palavras(x,dicionario))"
   ]
  },
  {
   "cell_type": "code",
   "execution_count": 29,
   "id": "28d9f258",
   "metadata": {
    "ExecuteTime": {
     "end_time": "2022-09-11T10:51:00.754520Z",
     "start_time": "2022-09-11T10:51:00.732467Z"
    }
   },
   "outputs": [
    {
     "data": {
      "text/html": [
       "<div>\n",
       "<style scoped>\n",
       "    .dataframe tbody tr th:only-of-type {\n",
       "        vertical-align: middle;\n",
       "    }\n",
       "\n",
       "    .dataframe tbody tr th {\n",
       "        vertical-align: top;\n",
       "    }\n",
       "\n",
       "    .dataframe thead th {\n",
       "        text-align: right;\n",
       "    }\n",
       "</style>\n",
       "<table border=\"1\" class=\"dataframe\">\n",
       "  <thead>\n",
       "    <tr style=\"text-align: right;\">\n",
       "      <th></th>\n",
       "      <th>tweet_text</th>\n",
       "      <th>sentiment</th>\n",
       "      <th>new_text</th>\n",
       "      <th>join_text</th>\n",
       "      <th>text</th>\n",
       "    </tr>\n",
       "  </thead>\n",
       "  <tbody>\n",
       "    <tr>\n",
       "      <th>0</th>\n",
       "      <td>Rio elege maior bancada policial de sua histór...</td>\n",
       "      <td>2</td>\n",
       "      <td>[rio, eleger, grande, bancada, policial, histo...</td>\n",
       "      <td>rio eleger grande bancada policial historio</td>\n",
       "      <td>[rio, eleger, grande, bancada, policial, histo...</td>\n",
       "    </tr>\n",
       "    <tr>\n",
       "      <th>1</th>\n",
       "      <td>fiquei tão triste quando eu vi o preço da câme...</td>\n",
       "      <td>0</td>\n",
       "      <td>[fiquei, tao, triste, ver, precor, camer]</td>\n",
       "      <td>fiquei tao triste ver precor camer</td>\n",
       "      <td>[fiquei, tao, triste, ver, precor]</td>\n",
       "    </tr>\n",
       "    <tr>\n",
       "      <th>2</th>\n",
       "      <td>Para Theresa May, seu plano para o Brexit é a ...</td>\n",
       "      <td>2</td>\n",
       "      <td>[thereso, may, plano, brexit, unico, opcao]</td>\n",
       "      <td>thereso may plano brexit unico opcao</td>\n",
       "      <td>[may, plano, brexit, unico, opcao]</td>\n",
       "    </tr>\n",
       "    <tr>\n",
       "      <th>3</th>\n",
       "      <td>caralho eu quero proteger a danielly em um pot...</td>\n",
       "      <td>0</td>\n",
       "      <td>[caralho, querer, proteger, danielly, pote, ta...</td>\n",
       "      <td>caralho querer proteger danielly pote tadinhaa</td>\n",
       "      <td>[caralho, querer, proteger, pote]</td>\n",
       "    </tr>\n",
       "    <tr>\n",
       "      <th>4</th>\n",
       "      <td>@SiCaetano_ viva o caos :)</td>\n",
       "      <td>1</td>\n",
       "      <td>[viver, caos]</td>\n",
       "      <td>viver caos</td>\n",
       "      <td>[viver, caos]</td>\n",
       "    </tr>\n",
       "  </tbody>\n",
       "</table>\n",
       "</div>"
      ],
      "text/plain": [
       "                                          tweet_text  sentiment  \\\n",
       "0  Rio elege maior bancada policial de sua histór...          2   \n",
       "1  fiquei tão triste quando eu vi o preço da câme...          0   \n",
       "2  Para Theresa May, seu plano para o Brexit é a ...          2   \n",
       "3  caralho eu quero proteger a danielly em um pot...          0   \n",
       "4                         @SiCaetano_ viva o caos :)          1   \n",
       "\n",
       "                                            new_text  \\\n",
       "0  [rio, eleger, grande, bancada, policial, histo...   \n",
       "1          [fiquei, tao, triste, ver, precor, camer]   \n",
       "2        [thereso, may, plano, brexit, unico, opcao]   \n",
       "3  [caralho, querer, proteger, danielly, pote, ta...   \n",
       "4                                      [viver, caos]   \n",
       "\n",
       "                                          join_text  \\\n",
       "0      rio eleger grande bancada policial historio    \n",
       "1               fiquei tao triste ver precor camer    \n",
       "2             thereso may plano brexit unico opcao    \n",
       "3   caralho querer proteger danielly pote tadinhaa    \n",
       "4                                       viver caos    \n",
       "\n",
       "                                                text  \n",
       "0  [rio, eleger, grande, bancada, policial, histo...  \n",
       "1                 [fiquei, tao, triste, ver, precor]  \n",
       "2                 [may, plano, brexit, unico, opcao]  \n",
       "3                  [caralho, querer, proteger, pote]  \n",
       "4                                      [viver, caos]  "
      ]
     },
     "execution_count": 29,
     "metadata": {},
     "output_type": "execute_result"
    }
   ],
   "source": [
    "df.head()"
   ]
  },
  {
   "cell_type": "markdown",
   "id": "50e19e15",
   "metadata": {},
   "source": [
    "# 4. Modelos"
   ]
  },
  {
   "cell_type": "markdown",
   "id": "d9d0a641",
   "metadata": {
    "slideshow": {
     "slide_type": "slide"
    }
   },
   "source": [
    "## 4.1 Modelo MultinomialNB"
   ]
  },
  {
   "cell_type": "code",
   "execution_count": 40,
   "id": "5c5ea2f7",
   "metadata": {
    "ExecuteTime": {
     "end_time": "2022-09-11T10:53:25.877139Z",
     "start_time": "2022-09-11T10:53:25.795139Z"
    }
   },
   "outputs": [],
   "source": [
    "# Transformando os dados\n",
    "df['join_text2'] = df['text'].apply(lambda x: ' '.join(x))"
   ]
  },
  {
   "cell_type": "code",
   "execution_count": 41,
   "id": "69cad428",
   "metadata": {
    "ExecuteTime": {
     "end_time": "2022-09-11T10:53:38.958852Z",
     "start_time": "2022-09-11T10:53:38.871853Z"
    }
   },
   "outputs": [],
   "source": [
    "# Separando em treino e teste\n",
    "X = df['join_text2']\n",
    "y = df['sentiment']\n",
    "\n",
    "X_train, X_test, y_train, y_test = train_test_split(X,\n",
    "                                                    y,\n",
    "                                                    test_size = 0.3,\n",
    "                                                    random_state = 42,\n",
    "                                                    stratify=y)\n",
    "\n"
   ]
  },
  {
   "cell_type": "code",
   "execution_count": 45,
   "id": "084d234c",
   "metadata": {
    "ExecuteTime": {
     "end_time": "2022-09-11T10:55:31.121050Z",
     "start_time": "2022-09-11T10:55:26.429762Z"
    }
   },
   "outputs": [],
   "source": [
    "# Instanciando o transformador\n",
    "tfidf = TfidfVectorizer(use_idf = True,)\n",
    "\n",
    "# Transforma os dados nas matrizes de saída\n",
    "X_train_tfidf = tfidf.fit_transform(X_train).todense()\n",
    "X_test_tfidf  = tfidf.transform(X_test).todense()"
   ]
  },
  {
   "cell_type": "code",
   "execution_count": 48,
   "id": "9d336b80",
   "metadata": {
    "ExecuteTime": {
     "end_time": "2022-09-11T10:57:10.098183Z",
     "start_time": "2022-09-11T10:57:02.243955Z"
    }
   },
   "outputs": [
    {
     "data": {
      "text/html": [
       "<style>#sk-container-id-1 {color: black;background-color: white;}#sk-container-id-1 pre{padding: 0;}#sk-container-id-1 div.sk-toggleable {background-color: white;}#sk-container-id-1 label.sk-toggleable__label {cursor: pointer;display: block;width: 100%;margin-bottom: 0;padding: 0.3em;box-sizing: border-box;text-align: center;}#sk-container-id-1 label.sk-toggleable__label-arrow:before {content: \"▸\";float: left;margin-right: 0.25em;color: #696969;}#sk-container-id-1 label.sk-toggleable__label-arrow:hover:before {color: black;}#sk-container-id-1 div.sk-estimator:hover label.sk-toggleable__label-arrow:before {color: black;}#sk-container-id-1 div.sk-toggleable__content {max-height: 0;max-width: 0;overflow: hidden;text-align: left;background-color: #f0f8ff;}#sk-container-id-1 div.sk-toggleable__content pre {margin: 0.2em;color: black;border-radius: 0.25em;background-color: #f0f8ff;}#sk-container-id-1 input.sk-toggleable__control:checked~div.sk-toggleable__content {max-height: 200px;max-width: 100%;overflow: auto;}#sk-container-id-1 input.sk-toggleable__control:checked~label.sk-toggleable__label-arrow:before {content: \"▾\";}#sk-container-id-1 div.sk-estimator input.sk-toggleable__control:checked~label.sk-toggleable__label {background-color: #d4ebff;}#sk-container-id-1 div.sk-label input.sk-toggleable__control:checked~label.sk-toggleable__label {background-color: #d4ebff;}#sk-container-id-1 input.sk-hidden--visually {border: 0;clip: rect(1px 1px 1px 1px);clip: rect(1px, 1px, 1px, 1px);height: 1px;margin: -1px;overflow: hidden;padding: 0;position: absolute;width: 1px;}#sk-container-id-1 div.sk-estimator {font-family: monospace;background-color: #f0f8ff;border: 1px dotted black;border-radius: 0.25em;box-sizing: border-box;margin-bottom: 0.5em;}#sk-container-id-1 div.sk-estimator:hover {background-color: #d4ebff;}#sk-container-id-1 div.sk-parallel-item::after {content: \"\";width: 100%;border-bottom: 1px solid gray;flex-grow: 1;}#sk-container-id-1 div.sk-label:hover label.sk-toggleable__label {background-color: #d4ebff;}#sk-container-id-1 div.sk-serial::before {content: \"\";position: absolute;border-left: 1px solid gray;box-sizing: border-box;top: 0;bottom: 0;left: 50%;z-index: 0;}#sk-container-id-1 div.sk-serial {display: flex;flex-direction: column;align-items: center;background-color: white;padding-right: 0.2em;padding-left: 0.2em;position: relative;}#sk-container-id-1 div.sk-item {position: relative;z-index: 1;}#sk-container-id-1 div.sk-parallel {display: flex;align-items: stretch;justify-content: center;background-color: white;position: relative;}#sk-container-id-1 div.sk-item::before, #sk-container-id-1 div.sk-parallel-item::before {content: \"\";position: absolute;border-left: 1px solid gray;box-sizing: border-box;top: 0;bottom: 0;left: 50%;z-index: -1;}#sk-container-id-1 div.sk-parallel-item {display: flex;flex-direction: column;z-index: 1;position: relative;background-color: white;}#sk-container-id-1 div.sk-parallel-item:first-child::after {align-self: flex-end;width: 50%;}#sk-container-id-1 div.sk-parallel-item:last-child::after {align-self: flex-start;width: 50%;}#sk-container-id-1 div.sk-parallel-item:only-child::after {width: 0;}#sk-container-id-1 div.sk-dashed-wrapped {border: 1px dashed gray;margin: 0 0.4em 0.5em 0.4em;box-sizing: border-box;padding-bottom: 0.4em;background-color: white;}#sk-container-id-1 div.sk-label label {font-family: monospace;font-weight: bold;display: inline-block;line-height: 1.2em;}#sk-container-id-1 div.sk-label-container {text-align: center;}#sk-container-id-1 div.sk-container {/* jupyter's `normalize.less` sets `[hidden] { display: none; }` but bootstrap.min.css set `[hidden] { display: none !important; }` so we also need the `!important` here to be able to override the default hidden behavior on the sphinx rendered scikit-learn.org. See: https://github.com/scikit-learn/scikit-learn/issues/21755 */display: inline-block !important;position: relative;}#sk-container-id-1 div.sk-text-repr-fallback {display: none;}</style><div id=\"sk-container-id-1\" class=\"sk-top-container\"><div class=\"sk-text-repr-fallback\"><pre>MultinomialNB()</pre><b>In a Jupyter environment, please rerun this cell to show the HTML representation or trust the notebook. <br />On GitHub, the HTML representation is unable to render, please try loading this page with nbviewer.org.</b></div><div class=\"sk-container\" hidden><div class=\"sk-item\"><div class=\"sk-estimator sk-toggleable\"><input class=\"sk-toggleable__control sk-hidden--visually\" id=\"sk-estimator-id-1\" type=\"checkbox\" checked><label for=\"sk-estimator-id-1\" class=\"sk-toggleable__label sk-toggleable__label-arrow\">MultinomialNB</label><div class=\"sk-toggleable__content\"><pre>MultinomialNB()</pre></div></div></div></div></div>"
      ],
      "text/plain": [
       "MultinomialNB()"
      ]
     },
     "execution_count": 48,
     "metadata": {},
     "output_type": "execute_result"
    }
   ],
   "source": [
    "# Instanciando o modelo\n",
    "model = MultinomialNB()\n",
    "\n",
    "# treinamento do modelo\n",
    "model.fit(X_train_tfidf, y_train)"
   ]
  },
  {
   "cell_type": "code",
   "execution_count": 52,
   "id": "82c587ef",
   "metadata": {
    "ExecuteTime": {
     "end_time": "2022-09-11T11:01:33.233530Z",
     "start_time": "2022-09-11T11:01:27.358835Z"
    }
   },
   "outputs": [
    {
     "name": "stdout",
     "output_type": "stream",
     "text": [
      "\n",
      "Métricas de avaliação de treino:\n"
     ]
    },
    {
     "data": {
      "image/png": "[encoded data removed]",
      "text/plain": [
       "<Figure size 432x288 with 2 Axes>"
      ]
     },
     "metadata": {
      "needs_background": "light"
     },
     "output_type": "display_data"
    },
    {
     "name": "stdout",
     "output_type": "stream",
     "text": [
      "              precision    recall  f1-score   support\n",
      "\n",
      "           0       0.75      0.76      0.76     22013\n",
      "           1       0.72      0.67      0.69     21897\n",
      "           2       0.86      0.89      0.87     22019\n",
      "\n",
      "    accuracy                           0.78     65929\n",
      "   macro avg       0.77      0.78      0.77     65929\n",
      "weighted avg       0.77      0.78      0.77     65929\n",
      "\n",
      "\n",
      "Métricas de avaliação de teste:\n"
     ]
    },
    {
     "data": {
      "image/png": "[encoded data removed]",
      "text/plain": [
       "<Figure size 432x288 with 2 Axes>"
      ]
     },
     "metadata": {
      "needs_background": "light"
     },
     "output_type": "display_data"
    },
    {
     "name": "stdout",
     "output_type": "stream",
     "text": [
      "              precision    recall  f1-score   support\n",
      "\n",
      "           0       0.72      0.73      0.73      9435\n",
      "           1       0.68      0.63      0.65      9384\n",
      "           2       0.84      0.88      0.86      9437\n",
      "\n",
      "    accuracy                           0.75     28256\n",
      "   macro avg       0.75      0.75      0.75     28256\n",
      "weighted avg       0.75      0.75      0.75     28256\n",
      "\n"
     ]
    }
   ],
   "source": [
    "# Avaliação do modelo\n",
    "metricas_classificacao(model, X_train_tfidf, X_test_tfidf, y_train, y_test)"
   ]
  },
  {
   "cell_type": "code",
   "execution_count": 57,
   "id": "456de4ad",
   "metadata": {
    "ExecuteTime": {
     "end_time": "2022-09-11T11:04:14.939886Z",
     "start_time": "2022-09-11T11:03:17.492863Z"
    }
   },
   "outputs": [
    {
     "data": {
      "text/html": [
       "<style>#sk-container-id-2 {color: black;background-color: white;}#sk-container-id-2 pre{padding: 0;}#sk-container-id-2 div.sk-toggleable {background-color: white;}#sk-container-id-2 label.sk-toggleable__label {cursor: pointer;display: block;width: 100%;margin-bottom: 0;padding: 0.3em;box-sizing: border-box;text-align: center;}#sk-container-id-2 label.sk-toggleable__label-arrow:before {content: \"▸\";float: left;margin-right: 0.25em;color: #696969;}#sk-container-id-2 label.sk-toggleable__label-arrow:hover:before {color: black;}#sk-container-id-2 div.sk-estimator:hover label.sk-toggleable__label-arrow:before {color: black;}#sk-container-id-2 div.sk-toggleable__content {max-height: 0;max-width: 0;overflow: hidden;text-align: left;background-color: #f0f8ff;}#sk-container-id-2 div.sk-toggleable__content pre {margin: 0.2em;color: black;border-radius: 0.25em;background-color: #f0f8ff;}#sk-container-id-2 input.sk-toggleable__control:checked~div.sk-toggleable__content {max-height: 200px;max-width: 100%;overflow: auto;}#sk-container-id-2 input.sk-toggleable__control:checked~label.sk-toggleable__label-arrow:before {content: \"▾\";}#sk-container-id-2 div.sk-estimator input.sk-toggleable__control:checked~label.sk-toggleable__label {background-color: #d4ebff;}#sk-container-id-2 div.sk-label input.sk-toggleable__control:checked~label.sk-toggleable__label {background-color: #d4ebff;}#sk-container-id-2 input.sk-hidden--visually {border: 0;clip: rect(1px 1px 1px 1px);clip: rect(1px, 1px, 1px, 1px);height: 1px;margin: -1px;overflow: hidden;padding: 0;position: absolute;width: 1px;}#sk-container-id-2 div.sk-estimator {font-family: monospace;background-color: #f0f8ff;border: 1px dotted black;border-radius: 0.25em;box-sizing: border-box;margin-bottom: 0.5em;}#sk-container-id-2 div.sk-estimator:hover {background-color: #d4ebff;}#sk-container-id-2 div.sk-parallel-item::after {content: \"\";width: 100%;border-bottom: 1px solid gray;flex-grow: 1;}#sk-container-id-2 div.sk-label:hover label.sk-toggleable__label {background-color: #d4ebff;}#sk-container-id-2 div.sk-serial::before {content: \"\";position: absolute;border-left: 1px solid gray;box-sizing: border-box;top: 0;bottom: 0;left: 50%;z-index: 0;}#sk-container-id-2 div.sk-serial {display: flex;flex-direction: column;align-items: center;background-color: white;padding-right: 0.2em;padding-left: 0.2em;position: relative;}#sk-container-id-2 div.sk-item {position: relative;z-index: 1;}#sk-container-id-2 div.sk-parallel {display: flex;align-items: stretch;justify-content: center;background-color: white;position: relative;}#sk-container-id-2 div.sk-item::before, #sk-container-id-2 div.sk-parallel-item::before {content: \"\";position: absolute;border-left: 1px solid gray;box-sizing: border-box;top: 0;bottom: 0;left: 50%;z-index: -1;}#sk-container-id-2 div.sk-parallel-item {display: flex;flex-direction: column;z-index: 1;position: relative;background-color: white;}#sk-container-id-2 div.sk-parallel-item:first-child::after {align-self: flex-end;width: 50%;}#sk-container-id-2 div.sk-parallel-item:last-child::after {align-self: flex-start;width: 50%;}#sk-container-id-2 div.sk-parallel-item:only-child::after {width: 0;}#sk-container-id-2 div.sk-dashed-wrapped {border: 1px dashed gray;margin: 0 0.4em 0.5em 0.4em;box-sizing: border-box;padding-bottom: 0.4em;background-color: white;}#sk-container-id-2 div.sk-label label {font-family: monospace;font-weight: bold;display: inline-block;line-height: 1.2em;}#sk-container-id-2 div.sk-label-container {text-align: center;}#sk-container-id-2 div.sk-container {/* jupyter's `normalize.less` sets `[hidden] { display: none; }` but bootstrap.min.css set `[hidden] { display: none !important; }` so we also need the `!important` here to be able to override the default hidden behavior on the sphinx rendered scikit-learn.org. See: https://github.com/scikit-learn/scikit-learn/issues/21755 */display: inline-block !important;position: relative;}#sk-container-id-2 div.sk-text-repr-fallback {display: none;}</style><div id=\"sk-container-id-2\" class=\"sk-top-container\"><div class=\"sk-text-repr-fallback\"><pre>GridSearchCV(cv=StratifiedKFold(n_splits=4, random_state=42, shuffle=True),\n",
       "             estimator=Pipeline(steps=[(&#x27;vect&#x27;, CountVectorizer()),\n",
       "                                       (&#x27;tfidf&#x27;, TfidfTransformer()),\n",
       "                                       (&#x27;clf&#x27;, MultinomialNB())]),\n",
       "             n_jobs=-1,\n",
       "             param_grid={&#x27;clf__alpha&#x27;: (0.2, 0.5, 0.7, 1.0),\n",
       "                         &#x27;clf__fit_prior&#x27;: (True, False),\n",
       "                         &#x27;tfidf__use_idf&#x27;: (True, False),\n",
       "                         &#x27;vect__ngram_range&#x27;: [(1, 1), (1, 2)]},\n",
       "             scoring=&#x27;f1_weighted&#x27;)</pre><b>In a Jupyter environment, please rerun this cell to show the HTML representation or trust the notebook. <br />On GitHub, the HTML representation is unable to render, please try loading this page with nbviewer.org.</b></div><div class=\"sk-container\" hidden><div class=\"sk-item sk-dashed-wrapped\"><div class=\"sk-label-container\"><div class=\"sk-label sk-toggleable\"><input class=\"sk-toggleable__control sk-hidden--visually\" id=\"sk-estimator-id-2\" type=\"checkbox\" ><label for=\"sk-estimator-id-2\" class=\"sk-toggleable__label sk-toggleable__label-arrow\">GridSearchCV</label><div class=\"sk-toggleable__content\"><pre>GridSearchCV(cv=StratifiedKFold(n_splits=4, random_state=42, shuffle=True),\n",
       "             estimator=Pipeline(steps=[(&#x27;vect&#x27;, CountVectorizer()),\n",
       "                                       (&#x27;tfidf&#x27;, TfidfTransformer()),\n",
       "                                       (&#x27;clf&#x27;, MultinomialNB())]),\n",
       "             n_jobs=-1,\n",
       "             param_grid={&#x27;clf__alpha&#x27;: (0.2, 0.5, 0.7, 1.0),\n",
       "                         &#x27;clf__fit_prior&#x27;: (True, False),\n",
       "                         &#x27;tfidf__use_idf&#x27;: (True, False),\n",
       "                         &#x27;vect__ngram_range&#x27;: [(1, 1), (1, 2)]},\n",
       "             scoring=&#x27;f1_weighted&#x27;)</pre></div></div></div><div class=\"sk-parallel\"><div class=\"sk-parallel-item\"><div class=\"sk-item\"><div class=\"sk-label-container\"><div class=\"sk-label sk-toggleable\"><input class=\"sk-toggleable__control sk-hidden--visually\" id=\"sk-estimator-id-3\" type=\"checkbox\" ><label for=\"sk-estimator-id-3\" class=\"sk-toggleable__label sk-toggleable__label-arrow\">estimator: Pipeline</label><div class=\"sk-toggleable__content\"><pre>Pipeline(steps=[(&#x27;vect&#x27;, CountVectorizer()), (&#x27;tfidf&#x27;, TfidfTransformer()),\n",
       "                (&#x27;clf&#x27;, MultinomialNB())])</pre></div></div></div><div class=\"sk-serial\"><div class=\"sk-item\"><div class=\"sk-serial\"><div class=\"sk-item\"><div class=\"sk-estimator sk-toggleable\"><input class=\"sk-toggleable__control sk-hidden--visually\" id=\"sk-estimator-id-4\" type=\"checkbox\" ><label for=\"sk-estimator-id-4\" class=\"sk-toggleable__label sk-toggleable__label-arrow\">CountVectorizer</label><div class=\"sk-toggleable__content\"><pre>CountVectorizer()</pre></div></div></div><div class=\"sk-item\"><div class=\"sk-estimator sk-toggleable\"><input class=\"sk-toggleable__control sk-hidden--visually\" id=\"sk-estimator-id-5\" type=\"checkbox\" ><label for=\"sk-estimator-id-5\" class=\"sk-toggleable__label sk-toggleable__label-arrow\">TfidfTransformer</label><div class=\"sk-toggleable__content\"><pre>TfidfTransformer()</pre></div></div></div><div class=\"sk-item\"><div class=\"sk-estimator sk-toggleable\"><input class=\"sk-toggleable__control sk-hidden--visually\" id=\"sk-estimator-id-6\" type=\"checkbox\" ><label for=\"sk-estimator-id-6\" class=\"sk-toggleable__label sk-toggleable__label-arrow\">MultinomialNB</label><div class=\"sk-toggleable__content\"><pre>MultinomialNB()</pre></div></div></div></div></div></div></div></div></div></div></div></div>"
      ],
      "text/plain": [
       "GridSearchCV(cv=StratifiedKFold(n_splits=4, random_state=42, shuffle=True),\n",
       "             estimator=Pipeline(steps=[('vect', CountVectorizer()),\n",
       "                                       ('tfidf', TfidfTransformer()),\n",
       "                                       ('clf', MultinomialNB())]),\n",
       "             n_jobs=-1,\n",
       "             param_grid={'clf__alpha': (0.2, 0.5, 0.7, 1.0),\n",
       "                         'clf__fit_prior': (True, False),\n",
       "                         'tfidf__use_idf': (True, False),\n",
       "                         'vect__ngram_range': [(1, 1), (1, 2)]},\n",
       "             scoring='f1_weighted')"
      ]
     },
     "execution_count": 57,
     "metadata": {},
     "output_type": "execute_result"
    }
   ],
   "source": [
    "#Ajuste do Modelo\n",
    "text_clf = Pipeline([('vect', CountVectorizer()),\n",
    "                     ('tfidf', TfidfTransformer()),\n",
    "                     ('clf', MultinomialNB())])\n",
    "\n",
    "parameters = {'vect__ngram_range': [(1, 1), (1, 2)],\n",
    "              'tfidf__use_idf': (True, False),\n",
    "              'clf__fit_prior': (True, False),\n",
    "              'clf__alpha': (0.2, 0.5, 0.7, 1.0)}\n",
    "\n",
    "splitter = StratifiedKFold(n_splits=4, shuffle=True, random_state=42)\n",
    "gs_clf = GridSearchCV(text_clf, parameters, cv=splitter ,n_jobs=-1, scoring=\"f1_weighted\")\n",
    "gs_clf.fit(X_train, y_train)\n"
   ]
  },
  {
   "cell_type": "code",
   "execution_count": 58,
   "id": "0119a7aa",
   "metadata": {
    "ExecuteTime": {
     "end_time": "2022-09-11T11:04:51.722264Z",
     "start_time": "2022-09-11T11:04:51.707264Z"
    }
   },
   "outputs": [
    {
     "data": {
      "text/plain": [
       "{'clf__alpha': 0.2,\n",
       " 'clf__fit_prior': False,\n",
       " 'tfidf__use_idf': False,\n",
       " 'vect__ngram_range': (1, 2)}"
      ]
     },
     "execution_count": 58,
     "metadata": {},
     "output_type": "execute_result"
    }
   ],
   "source": [
    "# Visualização dos melhores parâmetros\n",
    "gs_clf.best_params_"
   ]
  },
  {
   "cell_type": "code",
   "execution_count": 59,
   "id": "5f813de4",
   "metadata": {
    "ExecuteTime": {
     "end_time": "2022-09-11T11:05:03.862521Z",
     "start_time": "2022-09-11T11:05:00.739649Z"
    }
   },
   "outputs": [
    {
     "name": "stdout",
     "output_type": "stream",
     "text": [
      "\n",
      "Métricas de avaliação de treino:\n"
     ]
    },
    {
     "data": {
      "image/png": "[encoded data removed]",
      "text/plain": [
       "<Figure size 432x288 with 2 Axes>"
      ]
     },
     "metadata": {
      "needs_background": "light"
     },
     "output_type": "display_data"
    },
    {
     "name": "stdout",
     "output_type": "stream",
     "text": [
      "              precision    recall  f1-score   support\n",
      "\n",
      "           0       0.87      0.93      0.90     22013\n",
      "           1       0.90      0.86      0.88     21897\n",
      "           2       0.96      0.93      0.95     22019\n",
      "\n",
      "    accuracy                           0.91     65929\n",
      "   macro avg       0.91      0.91      0.91     65929\n",
      "weighted avg       0.91      0.91      0.91     65929\n",
      "\n",
      "\n",
      "Métricas de avaliação de teste:\n"
     ]
    },
    {
     "data": {
      "image/png": "[encoded data removed]",
      "text/plain": [
       "<Figure size 432x288 with 2 Axes>"
      ]
     },
     "metadata": {
      "needs_background": "light"
     },
     "output_type": "display_data"
    },
    {
     "name": "stdout",
     "output_type": "stream",
     "text": [
      "              precision    recall  f1-score   support\n",
      "\n",
      "           0       0.71      0.76      0.74      9435\n",
      "           1       0.69      0.66      0.67      9384\n",
      "           2       0.90      0.88      0.89      9437\n",
      "\n",
      "    accuracy                           0.77     28256\n",
      "   macro avg       0.77      0.77      0.77     28256\n",
      "weighted avg       0.77      0.77      0.77     28256\n",
      "\n"
     ]
    }
   ],
   "source": [
    "#Avaliação do modelo\n",
    "metricas_classificacao(gs_clf, X_train, X_test, y_train, y_test)"
   ]
  },
  {
   "cell_type": "markdown",
   "id": "507b5020",
   "metadata": {},
   "source": [
    "## 4.2.1 Modelo de Rede Neural"
   ]
  },
  {
   "cell_type": "code",
   "execution_count": null,
   "id": "ef871005",
   "metadata": {},
   "outputs": [],
   "source": [
    "# Separando os dados em treino e teste\n",
    "X_train, X_test, y_train, y_test = train_test_split(df['new_text'],\n",
    "                                                    df['sentiment'],\n",
    "                                                    test_size=0.2,\n",
    "                                                    random_state=42)"
   ]
  },
  {
   "cell_type": "code",
   "execution_count": 160,
   "id": "3d92b03a",
   "metadata": {
    "ExecuteTime": {
     "end_time": "2022-09-11T16:04:52.488336Z",
     "start_time": "2022-09-11T16:04:52.457285Z"
    },
    "slideshow": {
     "slide_type": "subslide"
    }
   },
   "outputs": [],
   "source": [
    "# Separando os dados em treino e validação\n",
    "X_train, X_val, y_train, y_val = train_test_split(X_train,\n",
    "                                                  y_train,\n",
    "                                                  test_size=0.1,\n",
    "                                                  random_state=42)"
   ]
  },
  {
   "cell_type": "code",
   "execution_count": 167,
   "id": "a0301d0e",
   "metadata": {
    "ExecuteTime": {
     "end_time": "2022-09-11T16:05:53.784145Z",
     "start_time": "2022-09-11T16:05:53.776093Z"
    },
    "slideshow": {
     "slide_type": "subslide"
    }
   },
   "outputs": [],
   "source": [
    "# Estabelecendo limites\n",
    "vocab_size = 20000\n",
    "embedding_dim = 16\n",
    "max_length = 250"
   ]
  },
  {
   "cell_type": "code",
   "execution_count": 176,
   "id": "7d9cb3d0",
   "metadata": {
    "ExecuteTime": {
     "end_time": "2022-09-11T16:07:05.616963Z",
     "start_time": "2022-09-11T16:07:04.202965Z"
    },
    "slideshow": {
     "slide_type": "subslide"
    }
   },
   "outputs": [],
   "source": [
    "# Fazendo a tokenização\n",
    "tokenizer = Tokenizer(num_words = vocab_size)\n",
    "tokenizer.fit_on_texts(X_train)\n",
    "sequences = tokenizer.texts_to_sequences(X_train)"
   ]
  },
  {
   "cell_type": "code",
   "execution_count": 177,
   "id": "fe1fa771",
   "metadata": {
    "ExecuteTime": {
     "end_time": "2022-09-11T16:07:06.587969Z",
     "start_time": "2022-09-11T16:07:05.619964Z"
    },
    "slideshow": {
     "slide_type": "subslide"
    }
   },
   "outputs": [],
   "source": [
    "# Fazendo ajuste dos dados\n",
    "padded = pad_sequences(sequences,maxlen=max_length)\n",
    "val_sequences = tokenizer.texts_to_sequences(X_val)\n",
    "val_padded = pad_sequences(val_sequences,maxlen=max_length)\n",
    "test_sequences = tokenizer.texts_to_sequences(X_test)\n",
    "test_padded = pad_sequences(test_sequences,maxlen=max_length)"
   ]
  },
  {
   "cell_type": "code",
   "execution_count": 178,
   "id": "3cdd985c",
   "metadata": {
    "ExecuteTime": {
     "end_time": "2022-09-11T16:07:06.667963Z",
     "start_time": "2022-09-11T16:07:06.588967Z"
    },
    "slideshow": {
     "slide_type": "subslide"
    }
   },
   "outputs": [],
   "source": [
    "# Instanciando o modelo\n",
    "model = Sequential()\n",
    "model.add(Embedding(vocab_size, embedding_dim, input_length=max_length))\n",
    "model.add(Flatten())\n",
    "model.add(Dense(50, activation = \"relu\"))\n",
    "model.add(Dense(10))\n",
    "model.add(Dense(3))\n",
    "model.add(Activation('softmax'))"
   ]
  },
  {
   "cell_type": "code",
   "execution_count": 179,
   "id": "bdd5018b",
   "metadata": {
    "ExecuteTime": {
     "end_time": "2022-09-11T16:07:06.684017Z",
     "start_time": "2022-09-11T16:07:06.669964Z"
    },
    "slideshow": {
     "slide_type": "subslide"
    }
   },
   "outputs": [],
   "source": [
    "# Metricas de aprendizado\n",
    "model.compile(optimizer = \"adam\",\n",
    "              loss = 'sparse_categorical_crossentropy',\n",
    "              metrics = [\"accuracy\"])"
   ]
  },
  {
   "cell_type": "code",
   "execution_count": 180,
   "id": "8759e999",
   "metadata": {
    "ExecuteTime": {
     "end_time": "2022-09-11T16:07:57.140965Z",
     "start_time": "2022-09-11T16:07:06.685963Z"
    },
    "slideshow": {
     "slide_type": "subslide"
    }
   },
   "outputs": [
    {
     "name": "stdout",
     "output_type": "stream",
     "text": [
      "Epoch 1/5\n",
      "1060/1060 [==============================] - 11s 9ms/step - loss: 0.6328 - accuracy: 0.6979 - val_loss: 0.4866 - val_accuracy: 0.7855\n",
      "Epoch 2/5\n",
      "1060/1060 [==============================] - 10s 9ms/step - loss: 0.4122 - accuracy: 0.8235 - val_loss: 0.4730 - val_accuracy: 0.7973\n",
      "Epoch 3/5\n",
      "1060/1060 [==============================] - 10s 9ms/step - loss: 0.3278 - accuracy: 0.8648 - val_loss: 0.5039 - val_accuracy: 0.7918\n",
      "Epoch 4/5\n",
      "1060/1060 [==============================] - 10s 9ms/step - loss: 0.2659 - accuracy: 0.8941 - val_loss: 0.5632 - val_accuracy: 0.7861\n",
      "Epoch 5/5\n",
      "1060/1060 [==============================] - 10s 10ms/step - loss: 0.2168 - accuracy: 0.9129 - val_loss: 0.6381 - val_accuracy: 0.7800\n"
     ]
    }
   ],
   "source": [
    "# Treinando o modelo\n",
    "callbacks = [\n",
    "    ModelCheckpoint(\n",
    "        filepath=\"modelo1.keras\",\n",
    "        save_best_only=True,\n",
    "        monitor=\"val_loss\"\n",
    "    )\n",
    "]\n",
    "results = model.fit(\n",
    " padded, y_train,\n",
    " epochs=5,\n",
    " batch_size = 64,\n",
    " validation_data = (val_padded, y_val),\n",
    " callbacks=callbacks)"
   ]
  },
  {
   "cell_type": "code",
   "execution_count": 181,
   "id": "a4c4ef1d",
   "metadata": {
    "ExecuteTime": {
     "end_time": "2022-09-11T16:08:02.332643Z",
     "start_time": "2022-09-11T16:08:01.933617Z"
    },
    "slideshow": {
     "slide_type": "subslide"
    }
   },
   "outputs": [
    {
     "data": {
      "image/png": "[encoded data removed]",
      "text/plain": [
       "<Figure size 432x288 with 1 Axes>"
      ]
     },
     "metadata": {
      "needs_background": "light"
     },
     "output_type": "display_data"
    },
    {
     "data": {
      "image/png": "[encoded data removed]",
      "text/plain": [
       "<Figure size 432x288 with 1 Axes>"
      ]
     },
     "metadata": {
      "needs_background": "light"
     },
     "output_type": "display_data"
    }
   ],
   "source": [
    "# Avaliação do treino\n",
    "avaliacao(results)"
   ]
  },
  {
   "cell_type": "markdown",
   "id": "00140826",
   "metadata": {
    "slideshow": {
     "slide_type": "slide"
    }
   },
   "source": [
    "## 4.2.2 Aplicando o modelo nos dados de teste"
   ]
  },
  {
   "cell_type": "code",
   "execution_count": 182,
   "id": "37f4f470",
   "metadata": {
    "ExecuteTime": {
     "end_time": "2022-09-11T16:08:06.156756Z",
     "start_time": "2022-09-11T16:08:04.797606Z"
    }
   },
   "outputs": [
    {
     "name": "stdout",
     "output_type": "stream",
     "text": [
      "589/589 [==============================] - 1s 2ms/step - loss: 0.4883 - accuracy: 0.7909\n",
      "Test accuracy: 0.791\n"
     ]
    }
   ],
   "source": [
    "# Carregando o melhor modelo\n",
    "model = load_model(\"modelo1.keras\")\n",
    "\n",
    "# Aplicando os dados de teste no modelo e verificando sua performace \n",
    "test_loss, test_acc = model.evaluate(test_padded,y_test)\n",
    "print(f\"Test accuracy: {test_acc:.3f}\")"
   ]
  },
  {
   "cell_type": "markdown",
   "id": "a76390de",
   "metadata": {
    "slideshow": {
     "slide_type": "slide"
    }
   },
   "source": [
    "# Conclusão"
   ]
  },
  {
   "cell_type": "markdown",
   "id": "5cc56538",
   "metadata": {
    "ExecuteTime": {
     "end_time": "2022-09-07T02:55:37.559640Z",
     "start_time": "2022-09-07T02:55:37.546638Z"
    },
    "slideshow": {
     "slide_type": "subslide"
    }
   },
   "source": [
    "Nas análises realizadas foi possível desenvolver um modelo para detectar o sentimento de uma publicação do Twitter, sendo que os modelos apresentaram bom desempenho. Foram testadas duas técnicas de NLP diferentes, a Rede Neural e a MultinomialNB. A primeira apresentou um  desempenho com uma acurácia de 79,1% de acerto, enquanto a segunda apresentou 77% de acurácia. Estes resultados indicam que é possível extrair a análise de sentimento através dos dados, porém é necessário entender qual é o contexto em que o modelo será aplicado, uma vez que a escrita e o linguajar são diferentes; apesar de ser uma só lingua, uma análise no contexto do Tweeter requer um preprocessameno muito difente de uma análise no contexto jurídico, por exemplo."
   ]
  },
  {
   "cell_type": "code",
   "execution_count": null,
   "id": "af5b1da6",
   "metadata": {},
   "outputs": [],
   "source": []
  }
 ],
 "metadata": {
  "celltoolbar": "Slideshow",
  "colab": {
   "collapsed_sections": [],
   "name": "Projeto 2 - NLP.ipynb",
   "provenance": []
  },
  "kernelspec": {
   "display_name": "Python 3 (ipykernel)",
   "language": "python",
   "name": "python3"
  },
  "language_info": {
   "codemirror_mode": {
    "name": "ipython",
    "version": 3
   },
   "file_extension": ".py",
   "mimetype": "text/x-python",
   "name": "python",
   "nbconvert_exporter": "python",
   "pygments_lexer": "ipython3",
   "version": "3.9.7"
  }
 },
 "nbformat": 4,
 "nbformat_minor": 5
}
