{
 "cells": [
  {
   "cell_type": "markdown",
   "id": "362c03d1",
   "metadata": {
    "id": "362c03d1",
    "slideshow": {
     "slide_type": "slide"
    }
   },
   "source": [
    "# Projeto 2 - NLP Analise de Sentimento\n",
    "\n",
    "-----"
   ]
  },
  {
   "cell_type": "markdown",
   "id": "63867d5c",
   "metadata": {
    "ExecuteTime": {
     "end_time": "2022-09-07T04:41:10.869301Z",
     "start_time": "2022-09-07T04:41:10.852937Z"
    },
    "slideshow": {
     "slide_type": "slide"
    }
   },
   "source": [
    "\n",
    "<img src=\"https://encrypted-tbn0.gstatic.com/images?q=tbn:ANd9GcQl_uVVki1hENn7Ov86KtGFX1aPwUWc7cD83Q&usqp=CAU\" width=600 >"
   ]
  },
  {
   "cell_type": "markdown",
   "id": "955a3a98",
   "metadata": {
    "id": "955a3a98",
    "slideshow": {
     "slide_type": "slide"
    }
   },
   "source": [
    "## Os Dados"
   ]
  },
  {
   "cell_type": "markdown",
   "id": "237d5657",
   "metadata": {
    "id": "237d5657",
    "slideshow": {
     "slide_type": "subslide"
    }
   },
   "source": [
    "Utilizaremos um Dataset obtido do Twitter com 100K postagens entre os dias 01/08/2018 e 20/10/2018. Cada postagem é classificada como **positiva**, **negativa** ou **neutra**.  \n",
    "\n",
    "Descrição das colunas:\n",
    "\n",
    "- **id**: ID único para o tweet  \n",
    "- **tweet_text**: Texto da publicação no Twitter  \n",
    "- **tweet_date**: Data da publicação no Twitter  \n",
    "- **sentiment**: 0, se negativo; 1, se positivo; 2, se neutro  \n",
    "- **query_used**: Filtro utilizado para buscar a publicação"
   ]
  },
  {
   "cell_type": "markdown",
   "id": "9dc86eb5",
   "metadata": {
    "id": "9dc86eb5",
    "slideshow": {
     "slide_type": "slide"
    }
   },
   "source": [
    "## O Problema"
   ]
  },
  {
   "cell_type": "markdown",
   "id": "4b0e1f6f",
   "metadata": {
    "id": "4b0e1f6f",
    "slideshow": {
     "slide_type": "subslide"
    }
   },
   "source": [
    "Você deverá desenvolver um modelo para detectar o sentimento de uma publicação do Twitter a classificando em uma das três categorias: **positiva**, **negativa** ou **neutra**. O texto da publicação está disponível na coluna \"tweet_text\". Teste pelo menos 2 técnicas de NLP diferentes e escolha a métrica de avaliação que julgar mais pertinente.  \n",
    "\n"
   ]
  },
  {
   "cell_type": "markdown",
   "id": "424fbdff",
   "metadata": {
    "slideshow": {
     "slide_type": "slide"
    }
   },
   "source": [
    "# Importando as bibliotecas"
   ]
  },
  {
   "cell_type": "code",
   "execution_count": 1,
   "id": "39f34a18",
   "metadata": {
    "ExecuteTime": {
     "end_time": "2022-09-10T15:42:50.004882Z",
     "start_time": "2022-09-10T15:42:20.731436Z"
    },
    "slideshow": {
     "slide_type": "subslide"
    }
   },
   "outputs": [],
   "source": [
    "import numpy as np\n",
    "import pandas as pd\n",
    "import re\n",
    "import emoji\n",
    "import unidecode\n",
    "import spacy\n",
    "import matplotlib.pyplot as plt\n",
    "import warnings\n",
    "\n",
    "import nltk\n",
    "from nltk.corpus import stopwords\n",
    "from nltk.tokenize import word_tokenize\n",
    "\n",
    "from sklearn.model_selection import train_test_split\n",
    "\n",
    "from tensorflow.keras.models import Sequential,load_model\n",
    "from tensorflow.keras.callbacks import ModelCheckpoint\n",
    "from tensorflow.keras.layers import Dense, Activation, Flatten\n",
    "from tensorflow.keras.layers import Embedding\n",
    "from tensorflow.keras.preprocessing import sequence\n",
    "from tensorflow.keras.preprocessing.text import Tokenizer\n",
    "from tensorflow.keras.preprocessing.sequence import pad_sequences\n",
    "\n",
    "warnings.filterwarnings('ignore')"
   ]
  },
  {
   "cell_type": "code",
   "execution_count": 2,
   "id": "aae4b06d",
   "metadata": {
    "ExecuteTime": {
     "end_time": "2022-09-10T15:42:50.481628Z",
     "start_time": "2022-09-10T15:42:50.004882Z"
    },
    "slideshow": {
     "slide_type": "subslide"
    }
   },
   "outputs": [
    {
     "name": "stderr",
     "output_type": "stream",
     "text": [
      "[nltk_data] Downloading package stopwords to\n",
      "[nltk_data]     C:\\Users\\vajja\\AppData\\Roaming\\nltk_data...\n",
      "[nltk_data]   Package stopwords is already up-to-date!\n",
      "[nltk_data] Downloading package punkt to\n",
      "[nltk_data]     C:\\Users\\vajja\\AppData\\Roaming\\nltk_data...\n",
      "[nltk_data]   Package punkt is already up-to-date!\n",
      "[nltk_data] Downloading package rslp to\n",
      "[nltk_data]     C:\\Users\\vajja\\AppData\\Roaming\\nltk_data...\n",
      "[nltk_data]   Package rslp is already up-to-date!\n"
     ]
    }
   ],
   "source": [
    "# Downloads dos pacotes\n",
    "nltk.download('stopwords')\n",
    "nltk.download('punkt')  \n",
    "nltk.download('rslp')\n",
    "words_pt = nltk.corpus.stopwords.words('portuguese')"
   ]
  },
  {
   "cell_type": "markdown",
   "id": "749cc2d0",
   "metadata": {
    "slideshow": {
     "slide_type": "slide"
    }
   },
   "source": [
    "# Funções auxiliares"
   ]
  },
  {
   "cell_type": "code",
   "execution_count": 3,
   "id": "a977ab79",
   "metadata": {
    "ExecuteTime": {
     "end_time": "2022-09-07T15:59:37.483402Z",
     "start_time": "2022-09-07T15:59:37.453402Z"
    },
    "slideshow": {
     "slide_type": "subslide"
    }
   },
   "outputs": [],
   "source": [
    "def preprocessing(string):\n",
    "    # tenando substiuir o emojis por seu significado\n",
    "    try:\n",
    "        string = emoji.replace_emoji(string, replace=lambda chars, data_dict: data_dict['pt'])\n",
    "    # caso não consiga substiuir o emojis por seu significado \n",
    "    except :\n",
    "        # retira os emojis\n",
    "        string = emoji.replace_emoji(string, replace='')\n",
    "        \n",
    "        # retira os links\n",
    "        url_pattern = r'[a-zA-Z0-9]+://[a-zA-Z0-9.-_]+/[a-zA-Z0-9]+'\n",
    "        string = re.sub(url_pattern,'', string)\n",
    "        \n",
    "        # retira os referecians de usuarios\n",
    "        pattern = r'@[a-zA-Z0-9_.]+'\n",
    "        string = re.sub(pattern,'', string)\n",
    "        \n",
    "        # substitui os caractres :) , :( , e :D por sinal de expressao bom ou ruim\n",
    "        string = re.sub(r':\\)|:D','bom', string)\n",
    "        string = re.sub(r':\\(','ruim', string)\n",
    "        \n",
    "        # retira a acentuacao\n",
    "        string = unidecode.unidecode(string)\n",
    "        \n",
    "        # retira os carcteres especiais e padroniza em letras minusculas\n",
    "        string = re.sub(r'[^a-zA-Z0-9]+',' ', string).lower()\n",
    "        \n",
    "        #aplicando a tokenização\n",
    "        words = word_tokenize(string)    \n",
    "        \n",
    "        #removendo as stopwords\n",
    "        words_pt = nltk.corpus.stopwords.words('portuguese')\n",
    "        \n",
    "        filtered_words = [w for w in words if w not in words_pt]\n",
    "       \n",
    "        #aplicando a Lemmatization\n",
    "        new_string = \" \".join(filtered_words)\n",
    "        \n",
    "        nlp = spacy.load(\"pt_core_news_sm\")\n",
    "        doc = nlp(new_string)\n",
    "        tokens = [token for token in doc]\n",
    "        \n",
    "        lemmatized_sentence = [token.lemma_ for token in doc]\n",
    "        \n",
    "        #retornando a lista de palavras\n",
    "        return lemmatized_sentence\n",
    "                   \n",
    "    #caso consiga substituir os emjis\n",
    "    else:\n",
    "        \n",
    "        string = emoji.replace_emoji(string, replace=lambda chars, data_dict: data_dict['pt'])\n",
    "        \n",
    "        url_pattern = r'[a-zA-Z0-9]+://[a-zA-Z0-9.-_]+/[a-zA-Z0-9]+'\n",
    "        string = re.sub(url_pattern,'', string)\n",
    "        \n",
    "        pattern = r'@[a-zA-Z0-9_.]+'\n",
    "        string = re.sub(pattern,'', string)\n",
    "        \n",
    "        string = re.sub(r':\\)|:D','bom', string)\n",
    "        string = re.sub(r':\\(','ruim', string)\n",
    "        \n",
    "        string = unidecode.unidecode(string)\n",
    "        \n",
    "        string = re.sub(r'[^a-zA-Z0-9]+',' ', string).lower()\n",
    "        \n",
    "        words = word_tokenize(string)\n",
    "        \n",
    "        words_pt = nltk.corpus.stopwords.words('portuguese')\n",
    "        \n",
    "        filtered_words = [w for w in words if w not in words_pt]\n",
    "       \n",
    "        new_string = \" \".join(filtered_words)\n",
    "        \n",
    "        nlp = spacy.load(\"pt_core_news_sm\")\n",
    "        doc = nlp(new_string)\n",
    "        tokens = [token for token in doc]\n",
    "        \n",
    "        lemmatized_sentence = [token.lemma_ for token in doc]\n",
    "        \n",
    "        return lemmatized_sentence\n",
    "    \n",
    "def trasnform_texto(string):\n",
    "    string = re.sub(r'[^a-zA-Z0-9]+',' ', string)\n",
    "    return string\n",
    "\n",
    "def trasnform_token(string):\n",
    "    return word_tokenize(string) \n",
    "\n",
    "def avaliacao(history):\n",
    "    accuracy = history.history[\"accuracy\"]\n",
    "    val_accuracy = history.history[\"val_accuracy\"]\n",
    "    loss = history.history[\"loss\"]\n",
    "    val_loss = history.history[\"val_loss\"]\n",
    "    epochs = range(1, len(accuracy) + 1)\n",
    "    plt.plot(epochs, accuracy, \"r\", label=\"Treino acc\")\n",
    "    plt.plot(epochs, val_accuracy, \"b\", label=\"Val acc\")\n",
    "    plt.xlabel(\"Épocas\")\n",
    "    plt.ylabel(\"%s\")\n",
    "    plt.title(\"Acurácia de Treino e Validação\")\n",
    "    plt.legend()\n",
    "    plt.figure()\n",
    "    plt.plot(epochs, loss, \"r\", label=\"Treino loss\")\n",
    "    plt.plot(epochs, val_loss, \"b\", label=\"Val loss\")\n",
    "    plt.xlabel(\"Épocas\")\n",
    "    plt.ylabel(\"%s\")\n",
    "    plt.title(\"Loss de Treino e Validação\")\n",
    "    plt.legend()\n",
    "    return plt.show()"
   ]
  },
  {
   "cell_type": "markdown",
   "id": "21f5e895",
   "metadata": {
    "slideshow": {
     "slide_type": "slide"
    }
   },
   "source": [
    "# Lendo a base inicial"
   ]
  },
  {
   "cell_type": "code",
   "execution_count": 21,
   "id": "8e110d2e",
   "metadata": {
    "ExecuteTime": {
     "end_time": "2022-09-07T02:27:44.308566Z",
     "start_time": "2022-09-07T02:27:43.823567Z"
    },
    "slideshow": {
     "slide_type": "subslide"
    }
   },
   "outputs": [],
   "source": [
    "df = pd.read_csv('./Dados/train/Train3Classes.csv')"
   ]
  },
  {
   "cell_type": "code",
   "execution_count": 22,
   "id": "003967ac",
   "metadata": {
    "ExecuteTime": {
     "end_time": "2022-09-07T02:27:44.419566Z",
     "start_time": "2022-09-07T02:27:44.385567Z"
    },
    "scrolled": true,
    "slideshow": {
     "slide_type": "subslide"
    }
   },
   "outputs": [
    {
     "data": {
      "text/html": [
       "<div>\n",
       "<style scoped>\n",
       "    .dataframe tbody tr th:only-of-type {\n",
       "        vertical-align: middle;\n",
       "    }\n",
       "\n",
       "    .dataframe tbody tr th {\n",
       "        vertical-align: top;\n",
       "    }\n",
       "\n",
       "    .dataframe thead th {\n",
       "        text-align: right;\n",
       "    }\n",
       "</style>\n",
       "<table border=\"1\" class=\"dataframe\">\n",
       "  <thead>\n",
       "    <tr style=\"text-align: right;\">\n",
       "      <th></th>\n",
       "      <th>id</th>\n",
       "      <th>tweet_text</th>\n",
       "      <th>tweet_date</th>\n",
       "      <th>sentiment</th>\n",
       "      <th>query_used</th>\n",
       "    </tr>\n",
       "  </thead>\n",
       "  <tbody>\n",
       "    <tr>\n",
       "      <th>0</th>\n",
       "      <td>1049721159292346368</td>\n",
       "      <td>Rio elege maior bancada policial de sua histór...</td>\n",
       "      <td>Tue Oct 09 18:00:01 +0000 2018</td>\n",
       "      <td>2</td>\n",
       "      <td>folha</td>\n",
       "    </tr>\n",
       "    <tr>\n",
       "      <th>1</th>\n",
       "      <td>1046251157025423360</td>\n",
       "      <td>fiquei tão triste quando eu vi o preço da câme...</td>\n",
       "      <td>Sun Sep 30 04:11:28 +0000 2018</td>\n",
       "      <td>0</td>\n",
       "      <td>:(</td>\n",
       "    </tr>\n",
       "    <tr>\n",
       "      <th>2</th>\n",
       "      <td>1041744620206653440</td>\n",
       "      <td>Para Theresa May, seu plano para o Brexit é a ...</td>\n",
       "      <td>Mon Sep 17 17:44:06 +0000 2018</td>\n",
       "      <td>2</td>\n",
       "      <td>exame</td>\n",
       "    </tr>\n",
       "    <tr>\n",
       "      <th>3</th>\n",
       "      <td>1046937084727107589</td>\n",
       "      <td>caralho eu quero proteger a danielly em um pot...</td>\n",
       "      <td>Tue Oct 02 01:37:06 +0000 2018</td>\n",
       "      <td>0</td>\n",
       "      <td>:(</td>\n",
       "    </tr>\n",
       "    <tr>\n",
       "      <th>4</th>\n",
       "      <td>1047326854229778432</td>\n",
       "      <td>@SiCaetano_ viva o caos :)</td>\n",
       "      <td>Wed Oct 03 03:25:55 +0000 2018</td>\n",
       "      <td>1</td>\n",
       "      <td>:)</td>\n",
       "    </tr>\n",
       "    <tr>\n",
       "      <th>...</th>\n",
       "      <td>...</td>\n",
       "      <td>...</td>\n",
       "      <td>...</td>\n",
       "      <td>...</td>\n",
       "      <td>...</td>\n",
       "    </tr>\n",
       "    <tr>\n",
       "      <th>94995</th>\n",
       "      <td>1041831666883321856</td>\n",
       "      <td>Cuba e defensor de direitos humanos se unem co...</td>\n",
       "      <td>Mon Sep 17 23:30:00 +0000 2018</td>\n",
       "      <td>2</td>\n",
       "      <td>jornaloglobo</td>\n",
       "    </tr>\n",
       "    <tr>\n",
       "      <th>94996</th>\n",
       "      <td>1032352892194369536</td>\n",
       "      <td>#Oportunidade ➡️ Venha fazer parte da nossa eq...</td>\n",
       "      <td>Wed Aug 22 19:44:44 +0000 2018</td>\n",
       "      <td>2</td>\n",
       "      <td>#oportunidade</td>\n",
       "    </tr>\n",
       "    <tr>\n",
       "      <th>94997</th>\n",
       "      <td>1046785538542440448</td>\n",
       "      <td>@96syoo EU SEI 😭😭 é por isso que significa mui...</td>\n",
       "      <td>Mon Oct 01 15:34:55 +0000 2018</td>\n",
       "      <td>0</td>\n",
       "      <td>:(</td>\n",
       "    </tr>\n",
       "    <tr>\n",
       "      <th>94998</th>\n",
       "      <td>1045457469110177792</td>\n",
       "      <td>@louistsexhes N te conheço mas posta :D</td>\n",
       "      <td>Thu Sep 27 23:37:38 +0000 2018</td>\n",
       "      <td>1</td>\n",
       "      <td>:)</td>\n",
       "    </tr>\n",
       "    <tr>\n",
       "      <th>94999</th>\n",
       "      <td>1046239135286136832</td>\n",
       "      <td>meu deus :( https://t.co/BlXazxZeKq</td>\n",
       "      <td>Sun Sep 30 03:23:42 +0000 2018</td>\n",
       "      <td>0</td>\n",
       "      <td>:(</td>\n",
       "    </tr>\n",
       "  </tbody>\n",
       "</table>\n",
       "<p>95000 rows × 5 columns</p>\n",
       "</div>"
      ],
      "text/plain": [
       "                        id                                         tweet_text  \\\n",
       "0      1049721159292346368  Rio elege maior bancada policial de sua histór...   \n",
       "1      1046251157025423360  fiquei tão triste quando eu vi o preço da câme...   \n",
       "2      1041744620206653440  Para Theresa May, seu plano para o Brexit é a ...   \n",
       "3      1046937084727107589  caralho eu quero proteger a danielly em um pot...   \n",
       "4      1047326854229778432                         @SiCaetano_ viva o caos :)   \n",
       "...                    ...                                                ...   \n",
       "94995  1041831666883321856  Cuba e defensor de direitos humanos se unem co...   \n",
       "94996  1032352892194369536  #Oportunidade ➡️ Venha fazer parte da nossa eq...   \n",
       "94997  1046785538542440448  @96syoo EU SEI 😭😭 é por isso que significa mui...   \n",
       "94998  1045457469110177792            @louistsexhes N te conheço mas posta :D   \n",
       "94999  1046239135286136832                meu deus :( https://t.co/BlXazxZeKq   \n",
       "\n",
       "                           tweet_date  sentiment     query_used  \n",
       "0      Tue Oct 09 18:00:01 +0000 2018          2          folha  \n",
       "1      Sun Sep 30 04:11:28 +0000 2018          0             :(  \n",
       "2      Mon Sep 17 17:44:06 +0000 2018          2          exame  \n",
       "3      Tue Oct 02 01:37:06 +0000 2018          0             :(  \n",
       "4      Wed Oct 03 03:25:55 +0000 2018          1             :)  \n",
       "...                               ...        ...            ...  \n",
       "94995  Mon Sep 17 23:30:00 +0000 2018          2   jornaloglobo  \n",
       "94996  Wed Aug 22 19:44:44 +0000 2018          2  #oportunidade  \n",
       "94997  Mon Oct 01 15:34:55 +0000 2018          0             :(  \n",
       "94998  Thu Sep 27 23:37:38 +0000 2018          1             :)  \n",
       "94999  Sun Sep 30 03:23:42 +0000 2018          0             :(  \n",
       "\n",
       "[95000 rows x 5 columns]"
      ]
     },
     "execution_count": 22,
     "metadata": {},
     "output_type": "execute_result"
    }
   ],
   "source": [
    "df"
   ]
  },
  {
   "cell_type": "markdown",
   "id": "b3885910",
   "metadata": {
    "slideshow": {
     "slide_type": "slide"
    }
   },
   "source": [
    "# EDA"
   ]
  },
  {
   "cell_type": "code",
   "execution_count": 24,
   "id": "84700896",
   "metadata": {
    "ExecuteTime": {
     "end_time": "2022-09-07T02:31:01.986207Z",
     "start_time": "2022-09-07T02:31:01.924206Z"
    },
    "slideshow": {
     "slide_type": "subslide"
    }
   },
   "outputs": [
    {
     "name": "stdout",
     "output_type": "stream",
     "text": [
      "<class 'pandas.core.frame.DataFrame'>\n",
      "RangeIndex: 95000 entries, 0 to 94999\n",
      "Data columns (total 5 columns):\n",
      " #   Column      Non-Null Count  Dtype \n",
      "---  ------      --------------  ----- \n",
      " 0   id          95000 non-null  int64 \n",
      " 1   tweet_text  95000 non-null  object\n",
      " 2   tweet_date  95000 non-null  object\n",
      " 3   sentiment   95000 non-null  int64 \n",
      " 4   query_used  95000 non-null  object\n",
      "dtypes: int64(2), object(3)\n",
      "memory usage: 3.6+ MB\n"
     ]
    }
   ],
   "source": [
    "df.info()"
   ]
  },
  {
   "cell_type": "code",
   "execution_count": 23,
   "id": "cd3c363d",
   "metadata": {
    "ExecuteTime": {
     "end_time": "2022-09-07T02:28:35.537803Z",
     "start_time": "2022-09-07T02:28:35.518803Z"
    },
    "slideshow": {
     "slide_type": "subslide"
    }
   },
   "outputs": [
    {
     "data": {
      "text/plain": [
       "0    31696\n",
       "1    31678\n",
       "2    31626\n",
       "Name: sentiment, dtype: int64"
      ]
     },
     "execution_count": 23,
     "metadata": {},
     "output_type": "execute_result"
    }
   ],
   "source": [
    "df['sentiment'].value_counts()"
   ]
  },
  {
   "cell_type": "code",
   "execution_count": 35,
   "id": "bd15d977",
   "metadata": {
    "ExecuteTime": {
     "end_time": "2022-09-07T02:46:45.415768Z",
     "start_time": "2022-09-07T02:46:45.407768Z"
    },
    "slideshow": {
     "slide_type": "subslide"
    }
   },
   "outputs": [
    {
     "name": "stdout",
     "output_type": "stream",
     "text": [
      "Rio elege maior bancada policial de sua história https://t.co/sGXnhZKrHx https://t.co/Mcgiz70jPF \n",
      "\n",
      "\n",
      "@DiorFgomes @Teledramaturgia Exato! Minha pergunta era sobre pessoas normais e não deusas como Alcione. :) \n",
      "\n",
      "\n",
      "@diegutrembala meu amooooor q sdd :( quase nem to indo pra votu \n",
      "\n",
      "\n",
      "ai to precisando de colo :( \n",
      "\n",
      "\n",
      "eu te amo :( https://t.co/w96VEsULVD \n",
      "\n",
      "\n",
      "td q eu queria: ir pra porto e com o theo :( https://t.co/6DvfXK24eI \n",
      "\n",
      "\n",
      "@_GustvoSilveira af num importa eu sei a história ain :( \n",
      "\n",
      "\n",
      "Não consegui :( mais uma chance que eu perco por auto sabotagem \n",
      "\n",
      "\n",
      "@eduardissimo Tudo dela desde i don't Want it at all tem. Mas o contrato dela com ele foi firmado antes do escândalo todo, eu acho. :( \n",
      "\n",
      "\n",
      "tão queridas as nossas primeiras conversas, nem parecia q eu ia sofrer como sofro hj :) \n",
      "\n",
      "\n"
     ]
    }
   ],
   "source": [
    "for i in range(0,200,20):\n",
    "    \n",
    "    print(df['tweet_text'].iloc[i],'\\n\\n')"
   ]
  },
  {
   "cell_type": "markdown",
   "id": "aba65b41",
   "metadata": {
    "slideshow": {
     "slide_type": "slide"
    }
   },
   "source": [
    "Percebe-se pelos dados acima que não existem dados faltantes e que apenas as colunas ID e SENTIMENT são numéricas.\n",
    "\n",
    "É visível que a classe ao qual se deseja predizer encontra-se balanceada, sem necessidade ajustes.\n",
    "\n",
    "Avaliando a coluna tweet_text pode-se notar que existem vários emojs e pontuações expressando sentimentos, como, por exemplo, o rosto triste representado por \" :( \" , percebe-se menções por meio do \" @ \" , do \" # \" e de urls.\n"
   ]
  },
  {
   "cell_type": "markdown",
   "id": "f0a9dada",
   "metadata": {
    "slideshow": {
     "slide_type": "slide"
    }
   },
   "source": [
    "# Preprocessando o dataset"
   ]
  },
  {
   "cell_type": "code",
   "execution_count": 6,
   "id": "57c74252",
   "metadata": {
    "ExecuteTime": {
     "end_time": "2022-09-07T02:24:15.908871Z",
     "start_time": "2022-09-07T02:24:15.894870Z"
    },
    "slideshow": {
     "slide_type": "subslide"
    }
   },
   "outputs": [],
   "source": [
    "# Preprocessamento \n",
    "\n",
    "df['new_text'] = df['tweet_text'].apply(preprocessing)\n",
    "df['join_text'] = df['new_text'].apply(lambda x: ''.join(x))\n",
    "\n",
    "#Salvando o dataset já processado\n",
    "df.to_csv('data1.csv',index=False) "
   ]
  },
  {
   "cell_type": "markdown",
   "id": "5e46fd75",
   "metadata": {
    "slideshow": {
     "slide_type": "slide"
    }
   },
   "source": [
    "# Resultado do preprocessamento "
   ]
  },
  {
   "cell_type": "code",
   "execution_count": 4,
   "id": "fb247037",
   "metadata": {
    "ExecuteTime": {
     "end_time": "2022-09-07T15:59:50.767042Z",
     "start_time": "2022-09-07T15:59:49.789575Z"
    },
    "slideshow": {
     "slide_type": "subslide"
    }
   },
   "outputs": [],
   "source": [
    "# Lendo o dataset processado \n",
    "df = pd.read_csv('data1.csv')"
   ]
  },
  {
   "cell_type": "code",
   "execution_count": 5,
   "id": "34cdd6aa",
   "metadata": {
    "ExecuteTime": {
     "end_time": "2022-09-07T15:59:53.534288Z",
     "start_time": "2022-09-07T15:59:53.491146Z"
    },
    "slideshow": {
     "slide_type": "subslide"
    }
   },
   "outputs": [
    {
     "data": {
      "text/html": [
       "<div>\n",
       "<style scoped>\n",
       "    .dataframe tbody tr th:only-of-type {\n",
       "        vertical-align: middle;\n",
       "    }\n",
       "\n",
       "    .dataframe tbody tr th {\n",
       "        vertical-align: top;\n",
       "    }\n",
       "\n",
       "    .dataframe thead th {\n",
       "        text-align: right;\n",
       "    }\n",
       "</style>\n",
       "<table border=\"1\" class=\"dataframe\">\n",
       "  <thead>\n",
       "    <tr style=\"text-align: right;\">\n",
       "      <th></th>\n",
       "      <th>id</th>\n",
       "      <th>tweet_text</th>\n",
       "      <th>tweet_date</th>\n",
       "      <th>sentiment</th>\n",
       "      <th>query_used</th>\n",
       "      <th>new_text</th>\n",
       "      <th>join_text</th>\n",
       "    </tr>\n",
       "  </thead>\n",
       "  <tbody>\n",
       "    <tr>\n",
       "      <th>0</th>\n",
       "      <td>1049721159292346368</td>\n",
       "      <td>Rio elege maior bancada policial de sua histór...</td>\n",
       "      <td>Tue Oct 09 18:00:01 +0000 2018</td>\n",
       "      <td>2</td>\n",
       "      <td>folha</td>\n",
       "      <td>['rio', 'eleger', 'grande', 'bancada', 'polici...</td>\n",
       "      <td>rio eleger grande bancada policial historio</td>\n",
       "    </tr>\n",
       "    <tr>\n",
       "      <th>1</th>\n",
       "      <td>1046251157025423360</td>\n",
       "      <td>fiquei tão triste quando eu vi o preço da câme...</td>\n",
       "      <td>Sun Sep 30 04:11:28 +0000 2018</td>\n",
       "      <td>0</td>\n",
       "      <td>:(</td>\n",
       "      <td>['fiquei', 'tao', 'triste', 'ver', 'precor', '...</td>\n",
       "      <td>fiquei tao triste ver precor camera ruim</td>\n",
       "    </tr>\n",
       "    <tr>\n",
       "      <th>2</th>\n",
       "      <td>1041744620206653440</td>\n",
       "      <td>Para Theresa May, seu plano para o Brexit é a ...</td>\n",
       "      <td>Mon Sep 17 17:44:06 +0000 2018</td>\n",
       "      <td>2</td>\n",
       "      <td>exame</td>\n",
       "      <td>['thereso', 'may', 'plano', 'brexit', 'unico',...</td>\n",
       "      <td>thereso may plano brexit unico opcao</td>\n",
       "    </tr>\n",
       "    <tr>\n",
       "      <th>3</th>\n",
       "      <td>1046937084727107589</td>\n",
       "      <td>caralho eu quero proteger a danielly em um pot...</td>\n",
       "      <td>Tue Oct 02 01:37:06 +0000 2018</td>\n",
       "      <td>0</td>\n",
       "      <td>:(</td>\n",
       "      <td>['caralho', 'querer', 'proteger', 'danielly', ...</td>\n",
       "      <td>caralho querer proteger danielly pote tadinhaa...</td>\n",
       "    </tr>\n",
       "    <tr>\n",
       "      <th>4</th>\n",
       "      <td>1047326854229778432</td>\n",
       "      <td>@SiCaetano_ viva o caos :)</td>\n",
       "      <td>Wed Oct 03 03:25:55 +0000 2018</td>\n",
       "      <td>1</td>\n",
       "      <td>:)</td>\n",
       "      <td>['viver', 'caos', 'bom']</td>\n",
       "      <td>viver caos bom</td>\n",
       "    </tr>\n",
       "  </tbody>\n",
       "</table>\n",
       "</div>"
      ],
      "text/plain": [
       "                    id                                         tweet_text  \\\n",
       "0  1049721159292346368  Rio elege maior bancada policial de sua histór...   \n",
       "1  1046251157025423360  fiquei tão triste quando eu vi o preço da câme...   \n",
       "2  1041744620206653440  Para Theresa May, seu plano para o Brexit é a ...   \n",
       "3  1046937084727107589  caralho eu quero proteger a danielly em um pot...   \n",
       "4  1047326854229778432                         @SiCaetano_ viva o caos :)   \n",
       "\n",
       "                       tweet_date  sentiment query_used  \\\n",
       "0  Tue Oct 09 18:00:01 +0000 2018          2      folha   \n",
       "1  Sun Sep 30 04:11:28 +0000 2018          0         :(   \n",
       "2  Mon Sep 17 17:44:06 +0000 2018          2      exame   \n",
       "3  Tue Oct 02 01:37:06 +0000 2018          0         :(   \n",
       "4  Wed Oct 03 03:25:55 +0000 2018          1         :)   \n",
       "\n",
       "                                            new_text  \\\n",
       "0  ['rio', 'eleger', 'grande', 'bancada', 'polici...   \n",
       "1  ['fiquei', 'tao', 'triste', 'ver', 'precor', '...   \n",
       "2  ['thereso', 'may', 'plano', 'brexit', 'unico',...   \n",
       "3  ['caralho', 'querer', 'proteger', 'danielly', ...   \n",
       "4                           ['viver', 'caos', 'bom']   \n",
       "\n",
       "                                           join_text  \n",
       "0        rio eleger grande bancada policial historio  \n",
       "1           fiquei tao triste ver precor camera ruim  \n",
       "2               thereso may plano brexit unico opcao  \n",
       "3  caralho querer proteger danielly pote tadinhaa...  \n",
       "4                                     viver caos bom  "
      ]
     },
     "execution_count": 5,
     "metadata": {},
     "output_type": "execute_result"
    }
   ],
   "source": [
    "# 5 primeiras linhas\n",
    "df.head()"
   ]
  },
  {
   "cell_type": "code",
   "execution_count": 6,
   "id": "c898f89a",
   "metadata": {
    "ExecuteTime": {
     "end_time": "2022-09-07T16:00:14.931321Z",
     "start_time": "2022-09-07T15:59:57.622294Z"
    },
    "slideshow": {
     "slide_type": "subslide"
    }
   },
   "outputs": [],
   "source": [
    "# Ajustando os dados\n",
    "df['join_text'] = df['new_text'].apply(trasnform_texto)\n",
    "\n",
    "df['new_text'] = df['join_text'].apply(trasnform_token)"
   ]
  },
  {
   "cell_type": "code",
   "execution_count": 16,
   "id": "d8f87059",
   "metadata": {
    "ExecuteTime": {
     "end_time": "2022-09-07T16:05:03.926739Z",
     "start_time": "2022-09-07T16:05:03.911687Z"
    }
   },
   "outputs": [
    {
     "data": {
      "text/plain": [
       "(95000, 7)"
      ]
     },
     "execution_count": 16,
     "metadata": {},
     "output_type": "execute_result"
    }
   ],
   "source": [
    "df.shape"
   ]
  },
  {
   "cell_type": "code",
   "execution_count": 19,
   "id": "13552db8",
   "metadata": {
    "ExecuteTime": {
     "end_time": "2022-09-07T16:14:55.086274Z",
     "start_time": "2022-09-07T16:14:55.055103Z"
    }
   },
   "outputs": [],
   "source": [
    "a = df[['tweet_text','sentiment','query_used']]"
   ]
  },
  {
   "cell_type": "code",
   "execution_count": 22,
   "id": "f0d1542f",
   "metadata": {
    "ExecuteTime": {
     "end_time": "2022-09-07T16:15:57.598909Z",
     "start_time": "2022-09-07T16:15:57.578962Z"
    }
   },
   "outputs": [
    {
     "data": {
      "text/plain": [
       "folha            5004\n",
       "estadao          3880\n",
       "#fato            3471\n",
       "g1               3439\n",
       "exame            3417\n",
       "#trabalho        3030\n",
       "#oportunidade    2455\n",
       "jornaloglobo     2374\n",
       "veja             2141\n",
       "#noticia         1114\n",
       "#novidade         920\n",
       "#curiosidade      381\n",
       "Name: query_used, dtype: int64"
      ]
     },
     "execution_count": 22,
     "metadata": {},
     "output_type": "execute_result"
    }
   ],
   "source": [
    "a[a['sentiment']==2]['query_used'].value_counts()"
   ]
  },
  {
   "cell_type": "code",
   "execution_count": 18,
   "id": "c2bb823c",
   "metadata": {
    "ExecuteTime": {
     "end_time": "2022-09-07T16:10:10.776196Z",
     "start_time": "2022-09-07T16:10:10.733346Z"
    }
   },
   "outputs": [
    {
     "data": {
      "text/plain": [
       ":(               0.333642\n",
       ":)               0.333453\n",
       "folha            0.052674\n",
       "estadao          0.040842\n",
       "#fato            0.036537\n",
       "g1               0.036200\n",
       "exame            0.035968\n",
       "#trabalho        0.031895\n",
       "#oportunidade    0.025842\n",
       "jornaloglobo     0.024989\n",
       "veja             0.022537\n",
       "#noticia         0.011726\n",
       "#novidade        0.009684\n",
       "#curiosidade     0.004011\n",
       "Name: query_used, dtype: float64"
      ]
     },
     "execution_count": 18,
     "metadata": {},
     "output_type": "execute_result"
    }
   ],
   "source": [
    "df['query_used'].value_counts(normalize=True)"
   ]
  },
  {
   "cell_type": "markdown",
   "id": "d9d0a641",
   "metadata": {
    "slideshow": {
     "slide_type": "slide"
    }
   },
   "source": [
    "# Treinando o modelo"
   ]
  },
  {
   "cell_type": "code",
   "execution_count": 10,
   "id": "ce633d8b",
   "metadata": {
    "ExecuteTime": {
     "end_time": "2022-09-07T02:24:36.717755Z",
     "start_time": "2022-09-07T02:24:36.674750Z"
    },
    "slideshow": {
     "slide_type": "subslide"
    }
   },
   "outputs": [],
   "source": [
    "# Separando os dados em treino e teste\n",
    "X_train, X_test, y_train, y_test = train_test_split(df['new_text'],\n",
    "                                                     df['sentiment'],\n",
    "                                                     test_size = 0.2,\n",
    "                                                     random_state = 42)"
   ]
  },
  {
   "cell_type": "code",
   "execution_count": 11,
   "id": "3d92b03a",
   "metadata": {
    "ExecuteTime": {
     "end_time": "2022-09-07T02:24:36.748755Z",
     "start_time": "2022-09-07T02:24:36.719749Z"
    },
    "slideshow": {
     "slide_type": "subslide"
    }
   },
   "outputs": [],
   "source": [
    "# Separando os dados em treino e validação\n",
    "X_train, X_val, y_train, y_val = train_test_split(X_train,\n",
    "                                                     y_train,\n",
    "                                                     test_size = 0.1,\n",
    "                                                     random_state = 42)"
   ]
  },
  {
   "cell_type": "code",
   "execution_count": 12,
   "id": "a0301d0e",
   "metadata": {
    "ExecuteTime": {
     "end_time": "2022-09-07T02:24:36.764750Z",
     "start_time": "2022-09-07T02:24:36.750749Z"
    },
    "slideshow": {
     "slide_type": "subslide"
    }
   },
   "outputs": [],
   "source": [
    "# Estabelecendo limites\n",
    "vocab_size = 10000\n",
    "embedding_dim = 16\n",
    "max_length = 120"
   ]
  },
  {
   "cell_type": "code",
   "execution_count": 13,
   "id": "7d9cb3d0",
   "metadata": {
    "ExecuteTime": {
     "end_time": "2022-09-07T02:24:38.607750Z",
     "start_time": "2022-09-07T02:24:36.766750Z"
    },
    "slideshow": {
     "slide_type": "subslide"
    }
   },
   "outputs": [],
   "source": [
    "# Fazendo a tokenização\n",
    "tokenizer = Tokenizer(num_words = vocab_size)\n",
    "tokenizer.fit_on_texts(X_train)\n",
    "sequences = tokenizer.texts_to_sequences(X_train)"
   ]
  },
  {
   "cell_type": "code",
   "execution_count": 14,
   "id": "fe1fa771",
   "metadata": {
    "ExecuteTime": {
     "end_time": "2022-09-07T02:24:39.595802Z",
     "start_time": "2022-09-07T02:24:38.609750Z"
    },
    "slideshow": {
     "slide_type": "subslide"
    }
   },
   "outputs": [],
   "source": [
    "# Fazendo ajuste dos dados\n",
    "padded = pad_sequences(sequences,maxlen=max_length)\n",
    "val_sequences = tokenizer.texts_to_sequences(X_val)\n",
    "val_padded = pad_sequences(val_sequences,maxlen=max_length)\n",
    "test_sequences = tokenizer.texts_to_sequences(X_test)\n",
    "test_padded = pad_sequences(test_sequences,maxlen=max_length)"
   ]
  },
  {
   "cell_type": "code",
   "execution_count": 15,
   "id": "3cdd985c",
   "metadata": {
    "ExecuteTime": {
     "end_time": "2022-09-07T02:24:39.691749Z",
     "start_time": "2022-09-07T02:24:39.597749Z"
    },
    "slideshow": {
     "slide_type": "subslide"
    }
   },
   "outputs": [],
   "source": [
    "# Instanciando o modelo\n",
    "model = Sequential()\n",
    "model.add(Embedding(vocab_size, embedding_dim, input_length=max_length))\n",
    "model.add(Flatten())\n",
    "model.add(Dense(50, activation = \"relu\"))\n",
    "model.add(Dense(25))\n",
    "model.add(Dense(3))\n",
    "model.add(Activation('softmax'))"
   ]
  },
  {
   "cell_type": "code",
   "execution_count": 16,
   "id": "bdd5018b",
   "metadata": {
    "ExecuteTime": {
     "end_time": "2022-09-07T02:24:39.722754Z",
     "start_time": "2022-09-07T02:24:39.693749Z"
    },
    "slideshow": {
     "slide_type": "subslide"
    }
   },
   "outputs": [],
   "source": [
    "# Metricas de aprendizado\n",
    "model.compile(optimizer = \"adam\",\n",
    "              loss = 'sparse_categorical_crossentropy',\n",
    "              metrics = [\"accuracy\"])"
   ]
  },
  {
   "cell_type": "code",
   "execution_count": 17,
   "id": "8759e999",
   "metadata": {
    "ExecuteTime": {
     "end_time": "2022-09-07T02:25:03.430276Z",
     "start_time": "2022-09-07T02:24:39.724750Z"
    },
    "slideshow": {
     "slide_type": "subslide"
    }
   },
   "outputs": [
    {
     "name": "stdout",
     "output_type": "stream",
     "text": [
      "Epoch 1/5\n",
      "1069/1069 [==============================] - 6s 5ms/step - loss: 0.1357 - accuracy: 0.9492 - val_loss: 0.0404 - val_accuracy: 0.9846\n",
      "Epoch 2/5\n",
      "1069/1069 [==============================] - 5s 4ms/step - loss: 0.0235 - accuracy: 0.9924 - val_loss: 0.0414 - val_accuracy: 0.9851\n",
      "Epoch 3/5\n",
      "1069/1069 [==============================] - 5s 4ms/step - loss: 0.0116 - accuracy: 0.9962 - val_loss: 0.0498 - val_accuracy: 0.9846\n",
      "Epoch 4/5\n",
      "1069/1069 [==============================] - 4s 4ms/step - loss: 0.0066 - accuracy: 0.9979 - val_loss: 0.0530 - val_accuracy: 0.9839\n",
      "Epoch 5/5\n",
      "1069/1069 [==============================] - 4s 4ms/step - loss: 0.0046 - accuracy: 0.9984 - val_loss: 0.0640 - val_accuracy: 0.9812\n"
     ]
    }
   ],
   "source": [
    "# Treinando o modelo\n",
    "callbacks = [\n",
    "    ModelCheckpoint(\n",
    "        filepath=\"modelo.keras\",\n",
    "        save_best_only=True,\n",
    "        monitor=\"val_loss\"\n",
    "    )\n",
    "]\n",
    "results = model.fit(\n",
    " padded, y_train,\n",
    " epochs= 5,\n",
    " batch_size = 64,\n",
    " validation_data = (val_padded, y_val),\n",
    " callbacks=callbacks)"
   ]
  },
  {
   "cell_type": "markdown",
   "id": "1626cdae",
   "metadata": {
    "slideshow": {
     "slide_type": "slide"
    }
   },
   "source": [
    "# Avaliação do treino"
   ]
  },
  {
   "cell_type": "code",
   "execution_count": 18,
   "id": "a4c4ef1d",
   "metadata": {
    "ExecuteTime": {
     "end_time": "2022-09-07T02:25:03.953277Z",
     "start_time": "2022-09-07T02:25:03.432277Z"
    },
    "slideshow": {
     "slide_type": "subslide"
    }
   },
   "outputs": [
    {
     "data": {
      "image/png": "[encoded data removed]",
      "text/plain": [
       "<Figure size 432x288 with 1 Axes>"
      ]
     },
     "metadata": {
      "needs_background": "light"
     },
     "output_type": "display_data"
    },
    {
     "data": {
      "image/png": "[encoded data removed]",
      "text/plain": [
       "<Figure size 432x288 with 1 Axes>"
      ]
     },
     "metadata": {
      "needs_background": "light"
     },
     "output_type": "display_data"
    }
   ],
   "source": [
    "avaliacao(results)"
   ]
  },
  {
   "cell_type": "markdown",
   "id": "00140826",
   "metadata": {
    "slideshow": {
     "slide_type": "slide"
    }
   },
   "source": [
    "# Desempenho com o teste"
   ]
  },
  {
   "cell_type": "code",
   "execution_count": 19,
   "id": "e4382a23",
   "metadata": {
    "ExecuteTime": {
     "end_time": "2022-09-07T02:25:04.097280Z",
     "start_time": "2022-09-07T02:25:03.955276Z"
    },
    "slideshow": {
     "slide_type": "subslide"
    }
   },
   "outputs": [],
   "source": [
    "# Carregando o melhor modelo\n",
    "model = load_model(\"modelo.keras\")"
   ]
  },
  {
   "cell_type": "code",
   "execution_count": 20,
   "id": "4dd2cf07",
   "metadata": {
    "ExecuteTime": {
     "end_time": "2022-09-07T02:25:05.259282Z",
     "start_time": "2022-09-07T02:25:04.099275Z"
    },
    "slideshow": {
     "slide_type": "subslide"
    }
   },
   "outputs": [
    {
     "name": "stdout",
     "output_type": "stream",
     "text": [
      "594/594 [==============================] - 1s 2ms/step - loss: 0.0434 - accuracy: 0.9846\n",
      "Test accuracy: 0.985\n"
     ]
    }
   ],
   "source": [
    "# Aplicando os dados de teste no modelo e verificando sua performace \n",
    "test_loss, test_acc = model.evaluate(test_padded,y_test)\n",
    "print(f\"Test accuracy: {test_acc:.3f}\")"
   ]
  },
  {
   "cell_type": "markdown",
   "id": "a76390de",
   "metadata": {
    "slideshow": {
     "slide_type": "slide"
    }
   },
   "source": [
    "# Conclusão"
   ]
  },
  {
   "cell_type": "markdown",
   "id": "5cc56538",
   "metadata": {
    "ExecuteTime": {
     "end_time": "2022-09-07T02:55:37.559640Z",
     "start_time": "2022-09-07T02:55:37.546638Z"
    },
    "slideshow": {
     "slide_type": "subslide"
    }
   },
   "source": [
    "O modelo de rede neural apresentou um ótimo desempenho com uma acuracia de 98,5% de acerto. Provando que é possível extrair analise de sentimento através dos dados, porém é necessário entender qual é o contexto em que o modelo será aplicado, uma vez que a escrita e o linguajar são diferentes a pesar de ser uma só lingua, uma analise no contexto do Tweeter requer um preprocessameno muito difente de uma analise no contexto jurídico por exemplo."
   ]
  },
  {
   "cell_type": "code",
   "execution_count": null,
   "id": "011389da",
   "metadata": {
    "slideshow": {
     "slide_type": "skip"
    }
   },
   "outputs": [],
   "source": []
  }
 ],
 "metadata": {
  "celltoolbar": "Slideshow",
  "colab": {
   "collapsed_sections": [],
   "name": "Projeto 2 - NLP.ipynb",
   "provenance": []
  },
  "kernelspec": {
   "display_name": "Python 3 (ipykernel)",
   "language": "python",
   "name": "python3"
  },
  "language_info": {
   "codemirror_mode": {
    "name": "ipython",
    "version": 3
   },
   "file_extension": ".py",
   "mimetype": "text/x-python",
   "name": "python",
   "nbconvert_exporter": "python",
   "pygments_lexer": "ipython3",
   "version": "3.9.7"
  }
 },
 "nbformat": 4,
 "nbformat_minor": 5
}
